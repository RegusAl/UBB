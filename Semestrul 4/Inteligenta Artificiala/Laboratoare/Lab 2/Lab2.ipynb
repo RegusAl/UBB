{
  "nbformat": 4,
  "nbformat_minor": 0,
  "metadata": {
    "colab": {
      "provenance": []
    },
    "kernelspec": {
      "name": "python3",
      "display_name": "Python 3"
    },
    "language_info": {
      "name": "python"
    }
  },
  "cells": [
    {
      "cell_type": "markdown",
      "source": [
        "# 1. Angajati"
      ],
      "metadata": {
        "id": "DiYsgZ5duLpz"
      }
    },
    {
      "cell_type": "code",
      "source": [
        "import pandas as pd\n",
        "import numpy as np"
      ],
      "metadata": {
        "id": "exxw2OysodG5"
      },
      "execution_count": null,
      "outputs": []
    },
    {
      "cell_type": "code",
      "source": [
        "url = 'https://raw.githubusercontent.com/lauradiosan/AI-UBB/main/2023-2024/labs/lab02/data/employees.csv'"
      ],
      "metadata": {
        "id": "ro45rffFngaQ"
      },
      "execution_count": null,
      "outputs": []
    },
    {
      "cell_type": "code",
      "execution_count": null,
      "metadata": {
        "id": "fP8dLl2yuE_h",
        "outputId": "3d9b9cd1-1f7f-4325-9f17-c39c65446178",
        "colab": {
          "base_uri": "https://localhost:8080/"
        }
      },
      "outputs": [
        {
          "output_type": "stream",
          "name": "stdout",
          "text": [
            "    First Name  Gender  Start Date Last Login Time  Salary  Bonus %  \\\n",
            "0      Douglas    Male    8/6/1993        12:42 PM   97308    6.945   \n",
            "1       Thomas    Male   3/31/1996         6:53 AM   61933    4.170   \n",
            "2        Maria  Female   4/23/1993        11:17 AM  130590   11.858   \n",
            "3        Jerry    Male    3/4/2005         1:00 PM  138705    9.340   \n",
            "4        Larry    Male   1/24/1998         4:47 PM  101004    1.389   \n",
            "..         ...     ...         ...             ...     ...      ...   \n",
            "995      Henry     NaN  11/23/2014         6:09 AM  132483   16.655   \n",
            "996    Phillip    Male   1/31/1984         6:30 AM   42392   19.675   \n",
            "997    Russell    Male   5/20/2013        12:39 PM   96914    1.421   \n",
            "998      Larry    Male   4/20/2013         4:45 PM   60500   11.985   \n",
            "999     Albert    Male   5/15/2012         6:24 PM  129949   10.169   \n",
            "\n",
            "    Senior Management                  Team  \n",
            "0                True             Marketing  \n",
            "1                True                   NaN  \n",
            "2               False               Finance  \n",
            "3                True               Finance  \n",
            "4                True       Client Services  \n",
            "..                ...                   ...  \n",
            "995             False          Distribution  \n",
            "996             False               Finance  \n",
            "997             False               Product  \n",
            "998             False  Business Development  \n",
            "999              True                 Sales  \n",
            "\n",
            "[1000 rows x 8 columns]\n"
          ]
        }
      ],
      "source": [
        "df_employees = pd.read_csv(url)\n",
        "print(df_employees)"
      ]
    },
    {
      "cell_type": "markdown",
      "source": [
        "- numarul de angajati\n",
        "\n",
        "\n"
      ],
      "metadata": {
        "id": "oWMRmZd6ugi9"
      }
    },
    {
      "cell_type": "code",
      "source": [
        "nr_employees = len(df_employees)\n",
        "print(f\"Numarul de angajati: {nr_employees}\")"
      ],
      "metadata": {
        "colab": {
          "base_uri": "https://localhost:8080/"
        },
        "id": "9Vnvbqo0zFaD",
        "outputId": "55c54762-f933-4387-d285-485cad400f1b"
      },
      "execution_count": null,
      "outputs": [
        {
          "output_type": "stream",
          "name": "stdout",
          "text": [
            "Numarul de angajati: 1000\n"
          ]
        }
      ]
    },
    {
      "cell_type": "markdown",
      "source": [
        "- numar si tipul informatiilor (proprietatilor) detinute pentru un angajat"
      ],
      "metadata": {
        "id": "iBn-Qryu0Sgo"
      }
    },
    {
      "cell_type": "code",
      "source": [
        "print(f\"Numarul informatiilor detinute pentru un angajat: {len(df_employees.columns)}\")\n",
        "print(f\"Informatiile detinute despre un angajat: {df_employees.columns.values}\")"
      ],
      "metadata": {
        "colab": {
          "base_uri": "https://localhost:8080/"
        },
        "id": "psRlk4990T9o",
        "outputId": "d7065ff7-6bf4-4fdf-9e02-022dac77f5b5"
      },
      "execution_count": null,
      "outputs": [
        {
          "output_type": "stream",
          "name": "stdout",
          "text": [
            "Numarul informatiilor detinute pentru un angajat: 8\n",
            "Informatiile detinute despre un angajat: ['First Name' 'Gender' 'Start Date' 'Last Login Time' 'Salary' 'Bonus %'\n",
            " 'Senior Management' 'Team']\n"
          ]
        }
      ]
    },
    {
      "cell_type": "markdown",
      "source": [
        "- numarul de angajati pentru care se detin date complete"
      ],
      "metadata": {
        "id": "mTMFk6v40W-I"
      }
    },
    {
      "cell_type": "code",
      "source": [
        "employees = df_employees.dropna(axis=0, how='any')\n",
        "print(f\"Numarul de angajati cu date complete: {len(employees)}\")"
      ],
      "metadata": {
        "colab": {
          "base_uri": "https://localhost:8080/"
        },
        "id": "QgjXDOAe0X2w",
        "outputId": "d3d764f6-58c1-49bc-e9ca-58e8eb6df408"
      },
      "execution_count": null,
      "outputs": [
        {
          "output_type": "stream",
          "name": "stdout",
          "text": [
            "Numarul de angajati cu date complete: 764\n"
          ]
        }
      ]
    },
    {
      "cell_type": "markdown",
      "source": [
        "- valorile minime, maxime, medii pentru fiecare proprietate"
      ],
      "metadata": {
        "id": "4RSQGmvL0YLo"
      }
    },
    {
      "cell_type": "code",
      "source": [
        "for series_name, series in df_employees.items():\n",
        "  try:\n",
        "    print(f\"{series_name}: min => {min(series)}, max => {max(series)}, avg => {series.mean()}\")\n",
        "  except:\n",
        "    pass"
      ],
      "metadata": {
        "colab": {
          "base_uri": "https://localhost:8080/"
        },
        "id": "p3QVeTFe0bls",
        "outputId": "74094b7b-bb5f-4fee-f580-dd9702ab6005"
      },
      "execution_count": null,
      "outputs": [
        {
          "output_type": "stream",
          "name": "stdout",
          "text": [
            "Salary: min => 35013, max => 149908, avg => 90662.181\n",
            "Bonus %: min => 1.015, max => 19.944, avg => 10.207555000000001\n",
            "Senior Management: min => False, max => True, avg => 0.5016077170418006\n"
          ]
        }
      ]
    },
    {
      "cell_type": "markdown",
      "source": [
        "- in cazul proprietatilor nenumerice, cate valori posibile are fiecare astfel de proprietate"
      ],
      "metadata": {
        "id": "KZJxCis65JY8"
      }
    },
    {
      "cell_type": "code",
      "source": [
        "for series_name, series in df_employees.items():\n",
        "  print(f\"{series_name}: {len(pd.unique(series))}\")"
      ],
      "metadata": {
        "colab": {
          "base_uri": "https://localhost:8080/"
        },
        "id": "h6AOdkfL5Kt3",
        "outputId": "68de282a-b9a2-4dfd-81da-76c4a5b7e1b4"
      },
      "execution_count": null,
      "outputs": [
        {
          "output_type": "stream",
          "name": "stdout",
          "text": [
            "First Name: 201\n",
            "Gender: 3\n",
            "Start Date: 972\n",
            "Last Login Time: 720\n",
            "Salary: 995\n",
            "Bonus %: 971\n",
            "Senior Management: 3\n",
            "Team: 11\n"
          ]
        }
      ]
    },
    {
      "cell_type": "markdown",
      "source": [
        "- daca sunt valori lipsa si cum se poate rezolva aceasta problema"
      ],
      "metadata": {
        "id": "Ops80Pf55MqL"
      }
    },
    {
      "cell_type": "code",
      "source": [
        "new_df_employees = df_employees\n",
        "for series_name, series in new_df_employees.items():\n",
        "  new_df_employees[series_name].fillna(\"NaN\", inplace=True)\n",
        "\n",
        "print(f\"(*Acum) Numarul de angajati cu date complete: {len(new_df_employees.dropna(axis=0, how='any'))}\")\n"
      ],
      "metadata": {
        "colab": {
          "base_uri": "https://localhost:8080/"
        },
        "id": "uIqdt99s5N-R",
        "outputId": "acc9c59e-e98e-4111-c0f9-28316bc41c8f"
      },
      "execution_count": null,
      "outputs": [
        {
          "output_type": "stream",
          "name": "stdout",
          "text": [
            "(*Acum) Numarul de angajati cu date complete: 1000\n"
          ]
        }
      ]
    },
    {
      "cell_type": "markdown",
      "source": [
        "- vizualizare a distributiei salariilor angajatilor pe categorii de salariu."
      ],
      "metadata": {
        "id": "0Ph1rSK8mYrO"
      }
    },
    {
      "cell_type": "code",
      "source": [
        "from matplotlib import pyplot as plt\n",
        "\n",
        "salary_data = df_employees[\"Salary\"]\n",
        "\n",
        "fig = plt.figure(figsize=(10,4))\n",
        "\n",
        "plt.hist(salary_data, color=\"orange\")\n",
        "\n",
        "plt.title(\"Salary Distribution\")\n",
        "plt.xlabel(\"Salary\")\n",
        "plt.ylabel(\"Nr. of employees\")\n",
        "\n",
        "fig.show()"
      ],
      "metadata": {
        "id": "4QPqifQGro1K",
        "outputId": "699171c2-9cb3-4a41-8a9a-992d6cc88682",
        "colab": {
          "base_uri": "https://localhost:8080/",
          "height": 363
        }
      },
      "execution_count": null,
      "outputs": [
        {
          "output_type": "display_data",
          "data": {
            "text/plain": [
              "<Figure size 1000x400 with 1 Axes>"
            ],
            "image/png": "[encoded data removed]"
          },
          "metadata": {}
        }
      ]
    },
    {
      "cell_type": "markdown",
      "source": [
        "- distributia salariilor acestor angajati pe categorii de salar si echipa din care fac parte"
      ],
      "metadata": {
        "id": "ezVI27EWrpDn"
      }
    },
    {
      "cell_type": "code",
      "source": [
        "plt.bar(x=df_employees[\"Team\"], height=df_employees[\"Salary\"], color='purple')\n",
        "plt.title(\"Salary - Team distribution\")\n",
        "plt.xlabel(\"Team\")\n",
        "plt.ylabel(\"Salary\")\n",
        "plt.xticks(rotation=90)\n",
        "plt.show()"
      ],
      "metadata": {
        "id": "2LxmoiC4mhSk",
        "outputId": "0b06f584-9054-46a4-f5ad-4962d5327e26",
        "colab": {
          "base_uri": "https://localhost:8080/",
          "height": 616
        }
      },
      "execution_count": null,
      "outputs": [
        {
          "output_type": "display_data",
          "data": {
            "text/plain": [
              "<Figure size 640x480 with 1 Axes>"
            ],
            "image/png": "[encoded data removed]"
          },
          "metadata": {}
        }
      ]
    },
    {
      "cell_type": "markdown",
      "source": [
        "- angajati ce pot fi considerati \"outlieri\"\n",
        "\n"
      ],
      "metadata": {
        "id": "Lu4DRUAvtYgl"
      }
    },
    {
      "cell_type": "code",
      "source": [
        "q01 = df_employees[\"Salary\"].quantile(0.01)\n",
        "q03 = df_employees[\"Salary\"].quantile(0.99)\n",
        "\n",
        "col1 = df_employees[df_employees[\"Salary\"]<q01]\n",
        "col2 = df_employees[df_employees[\"Salary\"]>q03]\n",
        "\n",
        "col = pd.concat([col1, col2])\n",
        "# print(col)\n",
        "\n",
        "plt.bar(x=col[\"First Name\"], height=col[\"Salary\"], color='purple')\n",
        "\n",
        "plt.title(\"Salary Distribution\")\n",
        "plt.xlabel(\"Salary\")\n",
        "plt.ylabel(\"Nr. of employees\")\n",
        "plt.xticks(rotation = 90)\n",
        "\n",
        "plt.show()"
      ],
      "metadata": {
        "id": "kBsWn39PuT6E",
        "outputId": "8f318704-aeb8-4925-dfd6-4e427c2a4710",
        "colab": {
          "base_uri": "https://localhost:8080/",
          "height": 525
        }
      },
      "execution_count": null,
      "outputs": [
        {
          "output_type": "display_data",
          "data": {
            "text/plain": [
              "<Figure size 640x480 with 1 Axes>"
            ],
            "image/png": "[encoded data removed]"
          },
          "metadata": {}
        }
      ]
    },
    {
      "cell_type": "markdown",
      "source": [
        "# 3. Propozitii"
      ],
      "metadata": {
        "id": "UPlLqEEJvPFp"
      }
    },
    {
      "cell_type": "code",
      "source": [
        "!wget https://raw.githubusercontent.com/lauradiosan/AI-UBB/main/2023-2024/labs/lab02/data/texts.txt"
      ],
      "metadata": {
        "colab": {
          "base_uri": "https://localhost:8080/"
        },
        "id": "1-VJTYe0wlYW",
        "outputId": "935c9f17-2255-486f-ca10-803526954f4b"
      },
      "execution_count": 11,
      "outputs": [
        {
          "output_type": "stream",
          "name": "stdout",
          "text": [
            "--2024-03-12 17:42:48--  https://raw.githubusercontent.com/lauradiosan/AI-UBB/main/2023-2024/labs/lab02/data/texts.txt\n",
            "Resolving raw.githubusercontent.com (raw.githubusercontent.com)... 185.199.108.133, 185.199.109.133, 185.199.110.133, ...\n",
            "Connecting to raw.githubusercontent.com (raw.githubusercontent.com)|185.199.108.133|:443... connected.\n",
            "HTTP request sent, awaiting response... 200 OK\n",
            "Length: 1095 (1.1K) [text/plain]\n",
            "Saving to: ‘texts.txt’\n",
            "\n",
            "\rtexts.txt             0%[                    ]       0  --.-KB/s               \rtexts.txt           100%[===================>]   1.07K  --.-KB/s    in 0s      \n",
            "\n",
            "2024-03-12 17:42:48 (69.7 MB/s) - ‘texts.txt’ saved [1095/1095]\n",
            "\n"
          ]
        }
      ]
    },
    {
      "cell_type": "code",
      "source": [
        "import nltk\n",
        "\n",
        "file1 = open(\"/content/texts.txt\", \"r\")\n",
        "text = file1.read()\n",
        "print(text)\n",
        "\n",
        "nltk.download('punkt')"
      ],
      "metadata": {
        "colab": {
          "base_uri": "https://localhost:8080/"
        },
        "id": "Drbo6fW7vVk-",
        "outputId": "f09798e5-0d0e-482d-8c2c-878d0cd4edfd"
      },
      "execution_count": 13,
      "outputs": [
        {
          "output_type": "stream",
          "name": "stdout",
          "text": [
            "Mesaj de informare: \n",
            "Cursul și laboratoarele de Inteligență Artificială vor fi o \n",
            "provocare pentru toți. Suntem convinși că veți realiza proiecte \n",
            "foarte interesante. Vă încurajăm să adresați întrebări atunci \n",
            "când ceva nu e clar, atât în mod live, cât și folosind platforma \n",
            "Teams, canalul ”general”. \n",
            "Dacă ați citit până aici, vă rugăm să lăsați un mesaj pe canalul \n",
            "general cu textul ”Am citit textul pentru problema 3”. \n",
            "Mesaj de informare generat de ChatGPT:\n",
            "Stimați cursanți,\n",
            "Suntem încântați să vă avem în echipa noastră pentru Cursul și \n",
            "laboratoarele de Inteligență Artificială. Această experiență va \n",
            "fi o adevărată provocare, dar suntem convinși că veți realiza \n",
            "proiecte extrem de interesante.\n",
            "Vă încurajăm să fiți activi și să adresați întrebări atunci când \n",
            "ceva nu este clar. Fie că este vorba de o discuție în timp real \n",
            "sau prin intermediul platformei Teams, canalul ”general”, suntem \n",
            "aici să vă sprijinim.\n",
            "Succes și să înceapă aventura AI!\n",
            "Cu considerație, Echipa de Inteligență Artificială\n"
          ]
        },
        {
          "output_type": "stream",
          "name": "stderr",
          "text": [
            "[nltk_data] Downloading package punkt to /root/nltk_data...\n",
            "[nltk_data]   Unzipping tokenizers/punkt.zip.\n"
          ]
        },
        {
          "output_type": "execute_result",
          "data": {
            "text/plain": [
              "True"
            ]
          },
          "metadata": {},
          "execution_count": 13
        }
      ]
    },
    {
      "cell_type": "markdown",
      "source": [
        "- numarul de propozitii din text;"
      ],
      "metadata": {
        "id": "IdeZsMtMw5P7"
      }
    },
    {
      "cell_type": "code",
      "source": [
        "from nltk.tokenize import sent_tokenize\n",
        "\n",
        "sentences = sent_tokenize(text)\n",
        "nr_sentences = len(sentences)\n",
        "\n",
        "print(f\"Numarul de propozitii: {nr_sentences}\")"
      ],
      "metadata": {
        "colab": {
          "base_uri": "https://localhost:8080/"
        },
        "id": "sJrbMfM0w7dC",
        "outputId": "8933bc1a-d1e8-45f2-af59-f11a7b1e2b3c"
      },
      "execution_count": 17,
      "outputs": [
        {
          "output_type": "stream",
          "name": "stdout",
          "text": [
            "Numarul de propozitii: 10\n"
          ]
        }
      ]
    },
    {
      "cell_type": "markdown",
      "source": [
        "- numarul de cuvinte din text"
      ],
      "metadata": {
        "id": "gXWq8haWxuRq"
      }
    },
    {
      "cell_type": "code",
      "source": [
        "from nltk.tokenize import word_tokenize\n",
        "\n",
        "words = word_tokenize(text)\n",
        "nr_words = len(words)\n",
        "\n",
        "print(f\"Numarul de cuvinte: {nr_words}\")"
      ],
      "metadata": {
        "colab": {
          "base_uri": "https://localhost:8080/"
        },
        "id": "p1siZhl7xwVB",
        "outputId": "df9f0551-e2ef-4ee1-c316-1610404437ca"
      },
      "execution_count": 16,
      "outputs": [
        {
          "output_type": "stream",
          "name": "stdout",
          "text": [
            "Numarul de cuvinte: 182\n"
          ]
        }
      ]
    },
    {
      "cell_type": "markdown",
      "source": [
        "- numarul de cuvinte diferite din text"
      ],
      "metadata": {
        "id": "Gcl4w_nN1yGI"
      }
    },
    {
      "cell_type": "code",
      "source": [
        "unique_words = set(words)\n",
        "print(f\"Numarul cuvintelor diferite: {len(unique_words)}\")"
      ],
      "metadata": {
        "colab": {
          "base_uri": "https://localhost:8080/"
        },
        "id": "H9f15um01y7E",
        "outputId": "facac64c-c47e-4711-caa2-e9408e629b68"
      },
      "execution_count": 18,
      "outputs": [
        {
          "output_type": "stream",
          "name": "stdout",
          "text": [
            "Numarul cuvintelor diferite: 99\n"
          ]
        }
      ]
    },
    {
      "cell_type": "markdown",
      "source": [
        "- cel mai scurt si cel mai lung cuvant (cuvinte)"
      ],
      "metadata": {
        "id": "xiUMAyw72RA-"
      }
    },
    {
      "cell_type": "code",
      "source": [
        "import pandas\n",
        "from nltk.probability import FreqDist\n",
        "\n",
        "# text_tokens = nltk.word_tokenize(text)\n",
        "# text = nltk.Text(text_tokens)\n",
        "text_series = pandas.Series(text)\n",
        "text_frequencies = FreqDist(text)\n",
        "text_frequency_frame = pandas.DataFrame(text_frequencies.most_common(), columns=[\"token\", \"frequency\"])\n",
        "\n",
        "max_length = max(text_frequency_frame.token.str.len())\n",
        "longest = text_frequency_frame.token.str.extractall(\"(?P<long>.{{{}}})\".format(max_length))\n",
        "\n",
        "# min_length = min(text_frequency_frame.token.str.len())\n",
        "# shortest = text_frequency_frame.token.str.extractall(\"(?P<short>.{{{}}})\".format(min_length))\n",
        "\n",
        "# print(f\"Shortest: {shortest}\")\n",
        "print(f\"Longest: {longest.long.iloc[0]}\")"
      ],
      "metadata": {
        "colab": {
          "base_uri": "https://localhost:8080/"
        },
        "id": "qWlRBURw2Sb9",
        "outputId": "85524671-d574-45a7-d9d5-3f913299ec97"
      },
      "execution_count": 33,
      "outputs": [
        {
          "output_type": "stream",
          "name": "stdout",
          "text": [
            "Shortest:          short\n",
            "   match      \n",
            "0  0         ,\n",
            "1  0         d\n",
            "   1         e\n",
            "2  0         .\n",
            "3  0         s\n",
            "...        ...\n",
            "98 1         c\n",
            "   2         h\n",
            "   3         i\n",
            "   4         p\n",
            "   5         a\n",
            "\n",
            "[521 rows x 1 columns]\n",
            "Longest: laboratoarele\n"
          ]
        }
      ]
    },
    {
      "cell_type": "markdown",
      "source": [
        "- textul fara diacritice"
      ],
      "metadata": {
        "id": "9OebquLI3g5S"
      }
    },
    {
      "cell_type": "code",
      "source": [
        "!pip install rowordnet\n",
        "import rowordnet as rwn\n",
        "wn = rwn.RoWordNet()\n"
      ],
      "metadata": {
        "colab": {
          "base_uri": "https://localhost:8080/"
        },
        "id": "jM-3vWk43iNn",
        "outputId": "1954ace3-9983-420f-d385-0bf778f927c3"
      },
      "execution_count": 36,
      "outputs": [
        {
          "output_type": "stream",
          "name": "stdout",
          "text": [
            "Collecting rowordnet\n",
            "  Downloading rowordnet-1.1.0-py3-none-any.whl (11.8 MB)\n",
            "\u001b[2K     \u001b[90m━━━━━━━━━━━━━━━━━━━━━━━━━━━━━━━━━━━━━━━━\u001b[0m \u001b[32m11.8/11.8 MB\u001b[0m \u001b[31m63.3 MB/s\u001b[0m eta \u001b[36m0:00:00\u001b[0m\n",
            "\u001b[?25hRequirement already satisfied: networkx in /usr/local/lib/python3.10/dist-packages (from rowordnet) (3.2.1)\n",
            "Requirement already satisfied: lxml in /usr/local/lib/python3.10/dist-packages (from rowordnet) (4.9.4)\n",
            "Installing collected packages: rowordnet\n",
            "Successfully installed rowordnet-1.1.0\n"
          ]
        }
      ]
    },
    {
      "cell_type": "markdown",
      "source": [
        "- sinonimele celui mai lung cuvant din text"
      ],
      "metadata": {
        "id": "DomQVpgl3ihw"
      }
    }
  ]
}