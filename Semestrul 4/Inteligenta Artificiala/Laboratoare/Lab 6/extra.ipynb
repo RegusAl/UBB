{
 "cells": [
  {
   "cell_type": "markdown",
   "metadata": {},
   "source": [
    "### Leave-One-Out"
   ]
  },
  {
   "cell_type": "code",
   "execution_count": 8,
   "metadata": {},
   "outputs": [],
   "source": [
    "import csv\n",
    "import matplotlib.pyplot as plt \n",
    "import numpy as np \n",
    "import pandas as pd\n",
    "import sklearn\n",
    "from sklearn import linear_model\n",
    "from sklearn.metrics import mean_squared_error"
   ]
  },
  {
   "cell_type": "code",
   "execution_count": 42,
   "metadata": {},
   "outputs": [
    {
     "name": "stdout",
     "output_type": "stream",
     "text": [
      "f(x) = [1.8147146] + 1.9312037922006973 * x\n",
      "Avg error: 3.220676246183306\n"
     ]
    }
   ],
   "source": [
    "df = pd.read_csv(\"data/world-happiness-report-2017.csv\")\n",
    "df.dropna()\n",
    "\n",
    "inputs = df[\"Economy..GDP.per.Capita.\"]\n",
    "outputs = df[\"Happiness.Score\"]\n",
    "\n",
    "nr = df.shape[0]\n",
    "# print(nr)\n",
    "\n",
    "arr = np.array_split(range(nr), nr)\n",
    "\n",
    "input_sets = [[df[\"Economy..GDP.per.Capita.\"].iloc[index] for index in indexes] for indexes in arr]\n",
    "output_sets = [[df[\"Happiness.Score\"].iloc[index] for index in indexes] for indexes in arr]\n",
    "\n",
    "# print(input_sets)\n",
    "# print(output_sets)\n",
    "\n",
    "errors = []\n",
    "\n",
    "for i in range(nr):\n",
    "    test_input, test_output = input_sets[i], output_sets[i]\n",
    "    train_input = []\n",
    "    train_output = []\n",
    "    regressor = linear_model.SGDRegressor()\n",
    "    for j in range(nr):\n",
    "        if j != i:\n",
    "            train_input += input_sets[j]\n",
    "            train_output += output_sets[j]\n",
    "\n",
    "    xx = [[el] for el in train_input]\n",
    "    regressor.partial_fit(xx, train_output)\n",
    "\n",
    "    xx = [[el] for el in test_input]\n",
    "    computed_output = regressor.predict(xx)\n",
    "\n",
    "    errors.append(mean_squared_error(test_output, computed_output))\n",
    "\n",
    "\n",
    "w0, w1 = regressor.intercept_, regressor.coef_[0]\n",
    "print(f\"f(x) = {w0} + {w1} * x\")\n",
    "# print(errors)\n",
    "print(f\"Avg error: {sum(errors) / len(errors)}\")"
   ]
  }
 ],
 "metadata": {
  "kernelspec": {
   "display_name": "Python 3",
   "language": "python",
   "name": "python3"
  },
  "language_info": {
   "codemirror_mode": {
    "name": "ipython",
    "version": 3
   },
   "file_extension": ".py",
   "mimetype": "text/x-python",
   "name": "python",
   "nbconvert_exporter": "python",
   "pygments_lexer": "ipython3",
   "version": "3.10.12"
  }
 },
 "nbformat": 4,
 "nbformat_minor": 2
}
