{
 "cells": [
  {
   "cell_type": "code",
   "execution_count": 1,
   "metadata": {},
   "outputs": [
    {
     "name": "stderr",
     "output_type": "stream",
     "text": [
      "c:\\Users\\Albert\\AppData\\Local\\Programs\\Python\\Python311\\Lib\\site-packages\\tqdm\\auto.py:21: TqdmWarning: IProgress not found. Please update jupyter and ipywidgets. See https://ipywidgets.readthedocs.io/en/stable/user_install.html\n",
      "  from .autonotebook import tqdm as notebook_tqdm\n"
     ]
    }
   ],
   "source": [
    "from datasets import load_dataset\n",
    "import markovify\n",
    "\n",
    "dataset = load_dataset(\"biglam/gutenberg-poetry-corpus\")"
   ]
  },
  {
   "cell_type": "code",
   "execution_count": 2,
   "metadata": {},
   "outputs": [],
   "source": [
    "dataset = load_dataset(\"biglam/gutenberg-poetry-corpus\")\n",
    "dataset['train'] = dataset['train']"
   ]
  },
  {
   "cell_type": "markdown",
   "metadata": {},
   "source": [
    "### a)"
   ]
  },
  {
   "cell_type": "code",
   "execution_count": 78,
   "metadata": {},
   "outputs": [],
   "source": [
    "text = markovify.Text(dataset['train']['line'])\n",
    "poemlines = []\n",
    "for i in range(5):\n",
    "    poemlines.append(text.make_sentence())\n"
   ]
  },
  {
   "cell_type": "code",
   "execution_count": 79,
   "metadata": {},
   "outputs": [
    {
     "data": {
      "text/plain": [
       "['As in a fierie Tempest shall be silver;',\n",
       " \"Essential Powers, nor by his own strength, this place may lye expos'd\",\n",
       " 'More lovely then PANDORA, whom the great boaster,',\n",
       " 'Bent aside the Devil stood,',\n",
       " 'Smoked a little longer,']"
      ]
     },
     "execution_count": 79,
     "metadata": {},
     "output_type": "execute_result"
    }
   ],
   "source": [
    "poemlines"
   ]
  },
  {
   "cell_type": "code",
   "execution_count": 80,
   "metadata": {},
   "outputs": [],
   "source": [
    "poem = {'line': poemlines}"
   ]
  },
  {
   "cell_type": "markdown",
   "metadata": {},
   "source": [
    "### b)"
   ]
  },
  {
   "cell_type": "code",
   "execution_count": 81,
   "metadata": {},
   "outputs": [],
   "source": [
    "from textblob import TextBlob\n",
    "import pandas as pd"
   ]
  },
  {
   "cell_type": "code",
   "execution_count": 82,
   "metadata": {},
   "outputs": [
    {
     "name": "stdout",
     "output_type": "stream",
     "text": [
      "                                                line  subjectivity  polarity  \\\n",
      "0            As in a fierie Tempest shall be silver;      0.000000    0.0000   \n",
      "1  Essential Powers, nor by his own strength, thi...      0.650000    0.3000   \n",
      "2  More lovely then PANDORA, whom the great boaster,      0.666667    0.6000   \n",
      "3                        Bent aside the Devil stood,      0.000000    0.0000   \n",
      "4                            Smoked a little longer,      0.500000   -0.1875   \n",
      "\n",
      "  sentiment  \n",
      "0   neutral  \n",
      "1  positive  \n",
      "2  positive  \n",
      "3   neutral  \n",
      "4  negative  \n"
     ]
    }
   ],
   "source": [
    "def getSubjectivity(text):\n",
    "    return TextBlob(text).sentiment.subjectivity\n",
    "\n",
    "def getPolarity(text):\n",
    "    return TextBlob(text).sentiment.polarity\n",
    "\n",
    "def getSentimentCategory(polarity):\n",
    "    if polarity > 0:\n",
    "        return 'positive'\n",
    "    elif polarity < 0:\n",
    "        return 'negative'\n",
    "    else:\n",
    "        return 'neutral'\n",
    "\n",
    "def sentiment(poem):\n",
    "\n",
    "    poem['subjectivity'] = poem['line'].apply(getSubjectivity)\n",
    "    poem['polarity'] = poem['line'].apply(getPolarity)\n",
    "    poem['sentiment'] = poem['polarity'].apply(getSentimentCategory)\n",
    "\n",
    "    return poem\n",
    "\n",
    "poem_df = pd.DataFrame(poem)\n",
    "\n",
    "\n",
    "result = sentiment(poem_df)\n",
    "print(result)"
   ]
  },
  {
   "cell_type": "code",
   "execution_count": 83,
   "metadata": {},
   "outputs": [
    {
     "data": {
      "text/html": [
       "<div>\n",
       "<style scoped>\n",
       "    .dataframe tbody tr th:only-of-type {\n",
       "        vertical-align: middle;\n",
       "    }\n",
       "\n",
       "    .dataframe tbody tr th {\n",
       "        vertical-align: top;\n",
       "    }\n",
       "\n",
       "    .dataframe thead th {\n",
       "        text-align: right;\n",
       "    }\n",
       "</style>\n",
       "<table border=\"1\" class=\"dataframe\">\n",
       "  <thead>\n",
       "    <tr style=\"text-align: right;\">\n",
       "      <th></th>\n",
       "      <th>line</th>\n",
       "      <th>subjectivity</th>\n",
       "      <th>polarity</th>\n",
       "      <th>sentiment</th>\n",
       "    </tr>\n",
       "  </thead>\n",
       "  <tbody>\n",
       "    <tr>\n",
       "      <th>0</th>\n",
       "      <td>As in a fierie Tempest shall be silver;</td>\n",
       "      <td>0.000000</td>\n",
       "      <td>0.0000</td>\n",
       "      <td>neutral</td>\n",
       "    </tr>\n",
       "    <tr>\n",
       "      <th>1</th>\n",
       "      <td>Essential Powers, nor by his own strength, thi...</td>\n",
       "      <td>0.650000</td>\n",
       "      <td>0.3000</td>\n",
       "      <td>positive</td>\n",
       "    </tr>\n",
       "    <tr>\n",
       "      <th>2</th>\n",
       "      <td>More lovely then PANDORA, whom the great boaster,</td>\n",
       "      <td>0.666667</td>\n",
       "      <td>0.6000</td>\n",
       "      <td>positive</td>\n",
       "    </tr>\n",
       "    <tr>\n",
       "      <th>3</th>\n",
       "      <td>Bent aside the Devil stood,</td>\n",
       "      <td>0.000000</td>\n",
       "      <td>0.0000</td>\n",
       "      <td>neutral</td>\n",
       "    </tr>\n",
       "    <tr>\n",
       "      <th>4</th>\n",
       "      <td>Smoked a little longer,</td>\n",
       "      <td>0.500000</td>\n",
       "      <td>-0.1875</td>\n",
       "      <td>negative</td>\n",
       "    </tr>\n",
       "  </tbody>\n",
       "</table>\n",
       "</div>"
      ],
      "text/plain": [
       "                                                line  subjectivity  polarity  \\\n",
       "0            As in a fierie Tempest shall be silver;      0.000000    0.0000   \n",
       "1  Essential Powers, nor by his own strength, thi...      0.650000    0.3000   \n",
       "2  More lovely then PANDORA, whom the great boaster,      0.666667    0.6000   \n",
       "3                        Bent aside the Devil stood,      0.000000    0.0000   \n",
       "4                            Smoked a little longer,      0.500000   -0.1875   \n",
       "\n",
       "  sentiment  \n",
       "0   neutral  \n",
       "1  positive  \n",
       "2  positive  \n",
       "3   neutral  \n",
       "4  negative  "
      ]
     },
     "execution_count": 83,
     "metadata": {},
     "output_type": "execute_result"
    }
   ],
   "source": [
    "poem_df"
   ]
  },
  {
   "cell_type": "markdown",
   "metadata": {},
   "source": [
    "### c)"
   ]
  },
  {
   "cell_type": "code",
   "execution_count": 10,
   "metadata": {},
   "outputs": [
    {
     "name": "stdout",
     "output_type": "stream",
     "text": [
      "[==================================================] 100.0% 1662.8/1662.8MB downloaded\n"
     ]
    }
   ],
   "source": [
    "import gensim.downloader\n",
    "model = gensim.downloader.load(\"word2vec-google-news-300\") "
   ]
  },
  {
   "cell_type": "code",
   "execution_count": 43,
   "metadata": {},
   "outputs": [
    {
     "name": "stdout",
     "output_type": "stream",
     "text": [
      "The working of devastation, \n",
      "As stands really these, they chanted. \n",
      "Reasons well chief; amongst those this seats alongside him, \n",
      "The work of devastation,\n",
      "As stood like these, they chanted.\n",
      "Reason as chief; among these the seat beside him,\n"
     ]
    }
   ],
   "source": [
    "from numpy.random import randint\n",
    "\n",
    "def find_synonym(word):\n",
    "    try:\n",
    "        similar_words = model.most_similar(word, topn=10)\n",
    "        for similar_word, _ in similar_words:\n",
    "            if similar_word.lower() != word.lower():\n",
    "                return similar_word\n",
    "    except KeyError:\n",
    "        return word\n",
    "    return word\n",
    "\n",
    "def replace_with_sinonims(poem):\n",
    "    new_poem = []\n",
    "    for line in poem:\n",
    "        new_vers = ''\n",
    "        for word in line.split(' '):\n",
    "            p = randint(1,100)\n",
    "            if p % 2 == 0:\n",
    "                try:\n",
    "                    word = find_synonym(word)\n",
    "                except:\n",
    "                    word = word\n",
    "            new_vers += word + ' '\n",
    "        new_poem.append(new_vers)\n",
    "\n",
    "    return new_poem\n",
    "\n",
    "new_poem = replace_with_sinonims(poemlines)\n",
    "for line in new_poem:\n",
    "    print(line)\n",
    "\n",
    "for line in poem['line']:\n",
    "    print(line)"
   ]
  },
  {
   "cell_type": "markdown",
   "metadata": {},
   "source": [
    "### BLEU Score"
   ]
  },
  {
   "cell_type": "code",
   "execution_count": 88,
   "metadata": {},
   "outputs": [
    {
     "name": "stdout",
     "output_type": "stream",
     "text": [
      "0.8919037207747021\n"
     ]
    }
   ],
   "source": [
    "from nltk.translate.bleu_score import corpus_bleu, sentence_bleu\n",
    "\n",
    "reference = [[word for word in line] for line in dataset['train']['line']]\n",
    "candidate = [word for line in poemlines for word in line ]\n",
    "score = sentence_bleu(reference, candidate)\n",
    "\n",
    "print(score)"
   ]
  }
 ],
 "metadata": {
  "kernelspec": {
   "display_name": "Python 3",
   "language": "python",
   "name": "python3"
  },
  "language_info": {
   "codemirror_mode": {
    "name": "ipython",
    "version": 3
   },
   "file_extension": ".py",
   "mimetype": "text/x-python",
   "name": "python",
   "nbconvert_exporter": "python",
   "pygments_lexer": "ipython3",
   "version": "3.11.2"
  }
 },
 "nbformat": 4,
 "nbformat_minor": 2
}
