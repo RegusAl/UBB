{
 "cells": [
  {
   "cell_type": "markdown",
   "metadata": {},
   "source": [
    "## Problema 2\n",
    "\n",
    "Se consideră informații despre cancerul de sân la femei, informații extrase din ecografii mamare precum: \n",
    "- Tipul malformației identificate (țesut benign sau țesut malign) \n",
    "- Caracteristici numerice ale nucleului celulelor din aceste țesuturi: \n",
    "    - raza (media distanțelor între centru si punctele de pe contur) \n",
    "    - textura (măsurată prin deviația standard a nivelelor de gri din imaginea asociată țesutului analizat) \n",
    "\n",
    "Folosindu-se aceste date, să se decidă dacă țesutul dintr-o nouă ecografie (pentru care se cunosc cele 2 caracteristici numerice – raza și textura –) va fi etichetat ca fiind malign sau benign."
   ]
  },
  {
   "cell_type": "code",
   "execution_count": 1,
   "metadata": {},
   "outputs": [],
   "source": [
    "from ucimlrepo import fetch_ucirepo \n",
    "import csv\n",
    "import matplotlib.pyplot as plt \n",
    "import numpy as np \n",
    "import pandas as pd\n",
    "import sklearn\n",
    "from sklearn.linear_model import LogisticRegression\n",
    "from Clasificator import Clasificator\n",
    "from LogisticRegression import MyLogisticRegressor\n"
   ]
  },
  {
   "cell_type": "code",
   "execution_count": 2,
   "metadata": {},
   "outputs": [
    {
     "data": {
      "text/html": [
       "<div>\n",
       "<style scoped>\n",
       "    .dataframe tbody tr th:only-of-type {\n",
       "        vertical-align: middle;\n",
       "    }\n",
       "\n",
       "    .dataframe tbody tr th {\n",
       "        vertical-align: top;\n",
       "    }\n",
       "\n",
       "    .dataframe thead th {\n",
       "        text-align: right;\n",
       "    }\n",
       "</style>\n",
       "<table border=\"1\" class=\"dataframe\">\n",
       "  <thead>\n",
       "    <tr style=\"text-align: right;\">\n",
       "      <th></th>\n",
       "      <th>Radius</th>\n",
       "      <th>Texture</th>\n",
       "      <th>Diagnosis</th>\n",
       "    </tr>\n",
       "  </thead>\n",
       "  <tbody>\n",
       "    <tr>\n",
       "      <th>0</th>\n",
       "      <td>17.99</td>\n",
       "      <td>10.38</td>\n",
       "      <td>M</td>\n",
       "    </tr>\n",
       "    <tr>\n",
       "      <th>1</th>\n",
       "      <td>20.57</td>\n",
       "      <td>17.77</td>\n",
       "      <td>M</td>\n",
       "    </tr>\n",
       "    <tr>\n",
       "      <th>2</th>\n",
       "      <td>19.69</td>\n",
       "      <td>21.25</td>\n",
       "      <td>M</td>\n",
       "    </tr>\n",
       "    <tr>\n",
       "      <th>3</th>\n",
       "      <td>11.42</td>\n",
       "      <td>20.38</td>\n",
       "      <td>M</td>\n",
       "    </tr>\n",
       "    <tr>\n",
       "      <th>4</th>\n",
       "      <td>20.29</td>\n",
       "      <td>14.34</td>\n",
       "      <td>M</td>\n",
       "    </tr>\n",
       "    <tr>\n",
       "      <th>...</th>\n",
       "      <td>...</td>\n",
       "      <td>...</td>\n",
       "      <td>...</td>\n",
       "    </tr>\n",
       "    <tr>\n",
       "      <th>564</th>\n",
       "      <td>21.56</td>\n",
       "      <td>22.39</td>\n",
       "      <td>M</td>\n",
       "    </tr>\n",
       "    <tr>\n",
       "      <th>565</th>\n",
       "      <td>20.13</td>\n",
       "      <td>28.25</td>\n",
       "      <td>M</td>\n",
       "    </tr>\n",
       "    <tr>\n",
       "      <th>566</th>\n",
       "      <td>16.60</td>\n",
       "      <td>28.08</td>\n",
       "      <td>M</td>\n",
       "    </tr>\n",
       "    <tr>\n",
       "      <th>567</th>\n",
       "      <td>20.60</td>\n",
       "      <td>29.33</td>\n",
       "      <td>M</td>\n",
       "    </tr>\n",
       "    <tr>\n",
       "      <th>568</th>\n",
       "      <td>7.76</td>\n",
       "      <td>24.54</td>\n",
       "      <td>B</td>\n",
       "    </tr>\n",
       "  </tbody>\n",
       "</table>\n",
       "<p>569 rows × 3 columns</p>\n",
       "</div>"
      ],
      "text/plain": [
       "     Radius  Texture Diagnosis\n",
       "0     17.99    10.38         M\n",
       "1     20.57    17.77         M\n",
       "2     19.69    21.25         M\n",
       "3     11.42    20.38         M\n",
       "4     20.29    14.34         M\n",
       "..      ...      ...       ...\n",
       "564   21.56    22.39         M\n",
       "565   20.13    28.25         M\n",
       "566   16.60    28.08         M\n",
       "567   20.60    29.33         M\n",
       "568    7.76    24.54         B\n",
       "\n",
       "[569 rows x 3 columns]"
      ]
     },
     "execution_count": 2,
     "metadata": {},
     "output_type": "execute_result"
    }
   ],
   "source": [
    "breast_cancer_wisconsin_diagnostic = fetch_ucirepo(id = 17)\n",
    "X = breast_cancer_wisconsin_diagnostic.data.features \n",
    "Y = breast_cancer_wisconsin_diagnostic.data.targets \n",
    "\n",
    "data = {'Radius': X['radius1'],\n",
    "        'Texture': X['texture1'],\n",
    "        'Diagnosis': Y['Diagnosis']}\n",
    "\n",
    "df = pd.DataFrame(data)\n",
    "df\n"
   ]
  },
  {
   "cell_type": "code",
   "execution_count": 35,
   "metadata": {},
   "outputs": [],
   "source": [
    "trainSample = np.random.choice(range(df.shape[0]), int(0.8 * df.shape[0]), replace = False)\n",
    "testSample = [i for i in range(df.shape[0])  if not i in trainSample]\n",
    "\n",
    "trainInputs = [[df[\"Radius\"].iloc[index] for index in trainSample], [df[\"Texture\"].iloc[index] for index in trainSample]]\n",
    "trainOutputs = [df[\"Diagnosis\"].iloc[index] for index in trainSample]\n",
    "\n",
    "testInputs = [[df[\"Radius\"].iloc[index] for index in testSample], [df[\"Texture\"].iloc[index] for index in testSample]]\n",
    "testOutputs = [df[\"Diagnosis\"].iloc[index] for index in testSample]"
   ]
  },
  {
   "cell_type": "markdown",
   "metadata": {},
   "source": [
    "- folosind regresie logistica (tool)"
   ]
  },
  {
   "cell_type": "code",
   "execution_count": 60,
   "metadata": {},
   "outputs": [
    {
     "name": "stdout",
     "output_type": "stream",
     "text": [
      "TP = 42, TN = 56, FP = 4, FN = 12\n",
      "Accuracy: 0.8596491228070176, Precision: 0.9130434782608695, Recall: 0.7777777777777778\n"
     ]
    }
   ],
   "source": [
    "xx = [[el1, el2] for el1,el2 in zip(*trainInputs)]\n",
    "regressor = LogisticRegression()\n",
    "regressor.fit(xx, trainOutputs)\n",
    "\n",
    "computedOutputSet = regressor.predict([[el1, el2] for el1,el2 in zip(*testInputs)])\n",
    "\n",
    "# M = 1 (pozitiv), B = 0 (negativ)\n",
    "TP, TN, FP, FN = Clasificator.metrici(computedOutputSet, testOutputs, 'M', 'B')\n",
    "\n",
    "acc = (TP + TN) / (TP + FP + FN + TN)\n",
    "precision = TP / (TP + FP)\n",
    "recall = TP / (TP + FN)\n",
    "\n",
    "print(f\"TP = {TP}, TN = {TN}, FP = {FP}, FN = {FN}\")\n",
    "print(f\"Accuracy: {acc}, Precision: {precision}, Recall: {recall}\")\n",
    "\n"
   ]
  },
  {
   "cell_type": "markdown",
   "metadata": {},
   "source": [
    "- folosind regresia logistica (manual)"
   ]
  },
  {
   "cell_type": "code",
   "execution_count": 56,
   "metadata": {},
   "outputs": [
    {
     "name": "stdout",
     "output_type": "stream",
     "text": [
      "TP = 25, TN = 52, FP = 8, FN = 29\n",
      "Accuracy: 0.6754385964912281, Precision: 0.7575757575757576, Recall: 0.46296296296296297\n"
     ]
    }
   ],
   "source": [
    "xx = [[el1, el2] for el1,el2 in zip(*trainInputs)]\n",
    "regressor = MyLogisticRegressor()\n",
    "regressor.train(xx, trainOutputs)\n",
    "\n",
    "\n",
    "computedOutputSet = regressor.predict([[el1, el2] for el1,el2 in zip(*testInputs)])\n",
    "\n",
    "# M = 1 (pozitiv), B = 0 (negativ)\n",
    "TP, TN, FP, FN = Clasificator.metrici(computedOutputSet, testOutputs, 'M', 'B')\n",
    "\n",
    "acc = Clasificator.accuracy(TP, TN, FP, FN)\n",
    "precision = Clasificator.precision(TP, TN, FP, FN)\n",
    "recall = Clasificator.recall(TP, TN, FP, FN)\n",
    "\n",
    "print(f\"TP = {TP}, TN = {TN}, FP = {FP}, FN = {FN}\")\n",
    "print(f\"Accuracy: {acc}, Precision: {precision}, Recall: {recall}\")"
   ]
  },
  {
   "cell_type": "markdown",
   "metadata": {},
   "source": [
    " Antrenati un clasificator pentru a stabili:\n",
    "\n",
    "   - daca o leziune (dintr-o mamografie) caracterizata printr-o textura de valoare 10 si o raza de valoare 18 este leziune maligna sau benigna"
   ]
  },
  {
   "cell_type": "markdown",
   "metadata": {},
   "source": [
    "(tool)"
   ]
  },
  {
   "cell_type": "code",
   "execution_count": 6,
   "metadata": {},
   "outputs": [
    {
     "name": "stdout",
     "output_type": "stream",
     "text": [
      "Tool prediction: M\n"
     ]
    }
   ],
   "source": [
    "texture = 10\n",
    "radius = 18\n",
    "\n",
    "xx = [[el1, el2] for el1,el2 in zip(*trainInputs)]\n",
    "regressor = LogisticRegression()\n",
    "regressor.fit(xx, trainOutputs)\n",
    "\n",
    "output = regressor.predict([[radius, texture]])\n",
    "\n",
    "print(f\"Tool prediction: {output[0]}\")"
   ]
  },
  {
   "cell_type": "markdown",
   "metadata": {},
   "source": [
    "(manual)"
   ]
  },
  {
   "cell_type": "code",
   "execution_count": 12,
   "metadata": {},
   "outputs": [
    {
     "name": "stdout",
     "output_type": "stream",
     "text": [
      "Tool prediction: M\n"
     ]
    }
   ],
   "source": [
    "texture = 10\n",
    "radius = 18\n",
    "\n",
    "xx = [[el1, el2] for el1,el2 in zip(*trainInputs)]\n",
    "regressor = MyLogisticRegressor()\n",
    "regressor.train(xx, trainOutputs)\n",
    "\n",
    "output = regressor.predict([[radius, texture]])\n",
    "\n",
    "print(f\"Tool prediction: {output[0]}\")"
   ]
  }
 ],
 "metadata": {
  "kernelspec": {
   "display_name": "Python 3",
   "language": "python",
   "name": "python3"
  },
  "language_info": {
   "codemirror_mode": {
    "name": "ipython",
    "version": 3
   },
   "file_extension": ".py",
   "mimetype": "text/x-python",
   "name": "python",
   "nbconvert_exporter": "python",
   "pygments_lexer": "ipython3",
   "version": "3.10.12"
  }
 },
 "nbformat": 4,
 "nbformat_minor": 2
}
