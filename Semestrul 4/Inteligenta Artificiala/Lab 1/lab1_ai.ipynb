{
  "nbformat": 4,
  "nbformat_minor": 0,
  "metadata": {
    "colab": {
      "provenance": [],
      "collapsed_sections": [
        "a-VXlOX2xLNN",
        "4ZJnHSzcm4W1",
        "pKO_zu-RrtfO"
      ],
      "toc_visible": true
    },
    "kernelspec": {
      "name": "python3",
      "display_name": "Python 3"
    },
    "language_info": {
      "name": "python"
    }
  },
  "cells": [
    {
      "cell_type": "markdown",
      "source": [
        "# 1. Să se determine ultimul (din punct de vedere alfabetic) cuvânt care poate apărea într-un text care conține mai multe cuvinte separate prin ” ” (spațiu). De ex. ultimul (dpdv alfabetic) cuvânt din ”Ana are mere rosii si galbene” este cuvântul \"si\"."
      ],
      "metadata": {
        "id": "a-VXlOX2xLNN"
      }
    },
    {
      "cell_type": "markdown",
      "source": [
        "Implementare 1 <br>\n",
        "Complexitate: O(n) unde n este numarul de cuvinte din propozitie"
      ],
      "metadata": {
        "id": "kYxya4KHxPHh"
      }
    },
    {
      "cell_type": "code",
      "source": [
        "def ultimul_cuvant1(sentence):\n",
        "  sentence = sentence.lower()  # schimbam mazusculele in litere mici O(n)\n",
        "  sentence = sentence.split()  # facem propozitia o lista de cuvinte O(n)\n",
        "  max_word = ''\n",
        "  for word in sentence:\n",
        "    if word > max_word:\n",
        "      max_word = word\n",
        "  return max_word\n",
        "\n",
        "assert(ultimul_cuvant1(\"Ana are mere si prune\") == \"si\")\n",
        "assert(ultimul_cuvant1(\"Ana nu mai are prune\") == \"prune\")"
      ],
      "metadata": {
        "id": "uayzfK8xxS3j"
      },
      "execution_count": null,
      "outputs": []
    },
    {
      "cell_type": "markdown",
      "source": [
        "Implementare 2 <br>\n",
        "Complexiatate: O(n)"
      ],
      "metadata": {
        "id": "saq_0ey_0HCU"
      }
    },
    {
      "cell_type": "code",
      "source": [
        "def ultimul_cuvant2(sentence):\n",
        "  sentence = sentence.split()\n",
        "  return max(sentence)\n",
        "\n",
        "assert(ultimul_cuvant2(\"AAAAAna are mere si prune\") == \"si\")\n",
        "assert(ultimul_cuvant2(\"Ana nu mai are prune\") == \"prune\")"
      ],
      "metadata": {
        "id": "FrIqx1xD0Mmk"
      },
      "execution_count": null,
      "outputs": []
    },
    {
      "cell_type": "markdown",
      "source": [
        "# 2. Să se determine distanța Euclideană între două locații identificate prin perechi de numere. De ex. distanța între (1,5) și (4,1) este 5.0"
      ],
      "metadata": {
        "id": "4ZJnHSzcm4W1"
      }
    },
    {
      "cell_type": "markdown",
      "source": [
        "Implementare 1 <br>\n",
        "Complexitate: O(1)"
      ],
      "metadata": {
        "id": "WkxoB76Km_Qg"
      }
    },
    {
      "cell_type": "code",
      "execution_count": null,
      "metadata": {
        "colab": {
          "base_uri": "https://localhost:8080/"
        },
        "id": "4zdb9Vh3mhTN",
        "outputId": "100dd1ef-a469-44e5-c49e-1439ab1ca622"
      },
      "outputs": [
        {
          "output_type": "execute_result",
          "data": {
            "text/plain": [
              "5.0"
            ]
          },
          "metadata": {},
          "execution_count": 31
        }
      ],
      "source": [
        "def euclidiean_distance(x1, y1, x2, y2):\n",
        "  '''\n",
        "  param: x1, y1, x2, y2 integers\n",
        "  returns: float\n",
        "  '''\n",
        "  return math.sqrt((x2-x1) ** 2 + (y2-y1) ** 2)\n",
        "\n",
        "euclidiean_distance(1, 5, 4, 1)"
      ]
    },
    {
      "cell_type": "markdown",
      "source": [
        "Implementare 2 (folosind ChatGPT)<br>\n",
        "Complexitate: O(1)"
      ],
      "metadata": {
        "id": "lUnWQtzwp4dZ"
      }
    },
    {
      "cell_type": "code",
      "source": [
        "from math import dist\n",
        "\n",
        "def euclidean_distance(x1, y1, x2, y2):\n",
        "  '''\n",
        "  param: x1, y1, x2, y2 integers\n",
        "  returns: float\n",
        "  '''\n",
        "  return dist((x1, y1), (x2, y2))\n",
        "\n",
        "assert(euclidiean_distance(1, 5, 4, 1) == 5.0)\n",
        "assert(euclidiean_distance(1, 5, 4, 1) != 4.0)"
      ],
      "metadata": {
        "id": "H00Oo8_NqBC8"
      },
      "execution_count": null,
      "outputs": []
    },
    {
      "cell_type": "markdown",
      "source": [
        "# 3. Să se determine produsul scalar a doi vectori rari care conțin numere reale. Un vector este rar atunci când conține multe elemente nule. Vectorii pot avea oricâte dimensiuni. De ex. produsul scalar a 2 vectori unisimensionali [1,0,2,0,3] și [1,2,0,3,1] este 4."
      ],
      "metadata": {
        "id": "pKO_zu-RrtfO"
      }
    },
    {
      "cell_type": "markdown",
      "source": [
        "Implementare 1 <br>\n",
        "Complexitate: O(n) unde n = dimensiunea vectorului"
      ],
      "metadata": {
        "id": "i-qwuXhwryc5"
      }
    },
    {
      "cell_type": "code",
      "source": [
        "def produs_scalar1(v1, v2):\n",
        "  '''\n",
        "  param: v1, v2 lists\n",
        "  returns: int\n",
        "  Calculeaza produsul scalar a doi vectori\n",
        "  '''\n",
        "  produs_scalar = 0\n",
        "  for i in range(0, min(len(v1), len(v2))):\n",
        "    produs_scalar += v1[i] * v2[i]\n",
        "  return produs_scalar\n",
        "\n",
        "assert(produs_scalar1([1, 0, 2, 0, 3], [1, 2, 0, 3, 1]) == 4)"
      ],
      "metadata": {
        "id": "SvqrsDmvrxp5"
      },
      "execution_count": null,
      "outputs": []
    },
    {
      "cell_type": "markdown",
      "source": [
        "Implementare 2 (ChatGPT)<br>\n",
        "Complexitate: O(n)"
      ],
      "metadata": {
        "id": "2RdXmKCpu7Ul"
      }
    },
    {
      "cell_type": "code",
      "source": [
        "def produs_scalar2(v1, v2):\n",
        "  if len(v1) != len(v2):\n",
        "    raise ValueError(\"Vectorii trebuie sa aiba aceeasi lungime!\")\n",
        "  return sum(x * y for x, y in zip(v1, v2)) # zip = iteratie paralela\n",
        "\n",
        "assert(produs_scalar2([1, 0, 2, 0, 3], [1, 2, 0, 3, 1]) == 4)"
      ],
      "metadata": {
        "id": "BWTUnfuyu2fq"
      },
      "execution_count": null,
      "outputs": []
    },
    {
      "cell_type": "markdown",
      "source": [
        "# 4. Să se determine cuvintele unui text care apar exact o singură dată în acel text. De ex. cuvintele care apar o singură dată în ”ana are ana are mere rosii ana\" sunt: 'mere' și 'rosii'."
      ],
      "metadata": {
        "id": "HfxRD_nBrjs-"
      }
    },
    {
      "cell_type": "markdown",
      "source": [
        "Implementare 1\n",
        "<br>\n",
        "Complexitate: O(n^2) - metoda ineficienta din punct de vedere al timpului"
      ],
      "metadata": {
        "id": "Pk-qLElCroS0"
      }
    },
    {
      "cell_type": "code",
      "source": [
        "def single_words1(sentence):\n",
        "  words = sentence.split()\n",
        "  single_words = []\n",
        "  for i in range(0, len(words)):\n",
        "    nr = 0\n",
        "    for j in range(0, len(words)):\n",
        "      if words[i] == words[j]:\n",
        "        nr+=1\n",
        "    if nr == 1:\n",
        "      single_words.append(words[i])\n",
        "  return single_words\n",
        "\n",
        "assert(single_words1(\"Ana are mere si are mere si pere\") == ['Ana', 'pere'])\n",
        "assert(single_words1(\"qwerty qw qwerty\") == ['qw'])"
      ],
      "metadata": {
        "id": "_jMSDtuxrs_Q"
      },
      "execution_count": 20,
      "outputs": []
    },
    {
      "cell_type": "markdown",
      "source": [
        "Implementare 2\n",
        "<br>\n",
        "Complexitate: O(n)"
      ],
      "metadata": {
        "id": "YJoIXj80xQED"
      }
    },
    {
      "cell_type": "code",
      "source": [
        "from collections import Counter\n",
        "\n",
        "def single_words2(sentence):\n",
        "  counter = Counter(sentence.split())   # face un dictionar {'cuvant': nr_aparitii}\n",
        "  # print(counter)\n",
        "  return list(word for word, nr in counter.items() if nr == 1)  # returneaza cuvintele a caror valoare din dictionar = 1\n",
        "\n",
        "assert(single_words2(\"Ana are mere si are mere si pere\") == ['Ana', 'pere'])\n",
        "assert(single_words2(\"qwerty qw qwerty\") == ['qw'])"
      ],
      "metadata": {
        "id": "6znkfwZhulZQ",
        "outputId": "60cc1561-d21e-483c-805b-8ed0ffb48d0b",
        "colab": {
          "base_uri": "https://localhost:8080/"
        }
      },
      "execution_count": 25,
      "outputs": [
        {
          "output_type": "stream",
          "name": "stdout",
          "text": [
            "Counter({'are': 2, 'mere': 2, 'si': 2, 'Ana': 1, 'pere': 1})\n",
            "Counter({'are': 2, 'mere': 2, 'si': 2, 'Ana': 1, 'pere': 1})\n",
            "Counter({'qwerty': 2, 'qw': 1})\n"
          ]
        }
      ]
    },
    {
      "cell_type": "markdown",
      "source": [
        "Implementare 3 (ChatGPT) <br>\n",
        "Complexitate: O(n)"
      ],
      "metadata": {
        "id": "M_RO31EqJFSu"
      }
    },
    {
      "cell_type": "code",
      "source": [
        "def single_words3(sentence):\n",
        "    word_counts = {}\n",
        "\n",
        "    # Count the occurrences of each word\n",
        "    for word in sentence.split():\n",
        "        word_counts[word] = word_counts.get(word, 0) + 1\n",
        "\n",
        "    # Filter out words with count equal to 1\n",
        "    unique_words = [word for word, count in word_counts.items() if count == 1]\n",
        "\n",
        "    return unique_words\n",
        "\n",
        "assert(single_words3(\"Ana are mere si are mere si pere\") == ['Ana', 'pere'])\n",
        "assert(single_words3(\"qwerty qw qwerty\") == ['qw'])"
      ],
      "metadata": {
        "id": "OxW6W-S7JKJ7"
      },
      "execution_count": 27,
      "outputs": []
    }
  ]
}