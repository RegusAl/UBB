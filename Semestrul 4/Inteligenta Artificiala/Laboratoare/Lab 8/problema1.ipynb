{
 "cells": [
  {
   "cell_type": "code",
   "execution_count": 112,
   "metadata": {},
   "outputs": [],
   "source": [
    "import random\n",
    "\n",
    "def read_and_process_text(path, state):\n",
    "    with open(path, 'r', encoding='utf-8') as f:\n",
    "        text = f.read()\n",
    "    text = text.replace('\\n', ' \\n ').split(' ')\n",
    "    words = {}\n",
    "    words[''] = [' '.join(text[0:state])]\n",
    "    \n",
    "    for i in range(0, len(text) - state - 1):\n",
    "        pairs = text[i:i + state]\n",
    "        pairs = ' '.join(pairs)\n",
    "        if pairs not in words:\n",
    "            words[pairs] = []\n",
    "        words[pairs].append(text[i + state])\n",
    "    \n",
    "    probs = {}\n",
    "    for start_word in words:\n",
    "        words_after = words[start_word]\n",
    "        probs[start_word] = [{'word': word, 'probabilitate': words_after.count(word) / len(words_after)} for word in set(words_after)]\n",
    "        probs[start_word].sort(key=lambda x: x['probabilitate'])\n",
    "    \n",
    "    return probs\n",
    "\n",
    "def predict_next_word(word, probs):\n",
    "    if word not in probs:\n",
    "        return None\n",
    "    probabilitati_next_word = probs[word]\n",
    "    p = random.random()\n",
    "    start = 0\n",
    "    for d in probabilitati_next_word:\n",
    "        if start <= p < start + d['probabilitate']:\n",
    "            return d['word']\n",
    "        start += d['probabilitate']\n",
    "    return None\n",
    "\n",
    "def generate_poem(probs, number_of_words):\n",
    "    word = predict_next_word('', probs)\n",
    "    if not word:\n",
    "        return \"\"\n",
    "    poem = word + ' '\n",
    "    for _ in range(number_of_words - 1):\n",
    "        next_word = predict_next_word(word, probs)\n",
    "        if not next_word:\n",
    "            break\n",
    "        poem += next_word + ' '\n",
    "        tokens = word.split(' ')[1:] + [next_word]\n",
    "        word = ' '.join(tokens)\n",
    "    return poem.strip()"
   ]
  },
  {
   "cell_type": "code",
   "execution_count": 118,
   "metadata": {},
   "outputs": [
    {
     "name": "stdout",
     "output_type": "stream",
     "text": [
      "Nimic nu mai pot să le vadă. \n",
      " S-au zburlit pe-o ramură. \n",
      " Mai spune s-aducă şi ceaiul, \n",
      " Şi ea l-a prins în dulcele-i extaz. \n",
      " Clarul snop defoaie \n",
      " Mii de flori, \n",
      " E drept să fiu poetul îndrăzneţ ca niciodată \n",
      " Ca pe pământ \n",
      " În culori, \n",
      " Lacrimi ca o hlamidă? \n",
      " Eu trec din vreme-n vreme. \n",
      " Deasupra lor, prin mine, transcezi şi te respir... \n",
      " Şi parca dorm pe scânduri ude, \n",
      " În ochii fericirii mă uit pierdut şi plâng. \n",
      " Cum sună sub picior, \n",
      " Ş-acel rege-al poeziei, vecinic tânăr şi ferice, \n",
      " Îngâna-ne-vor\n"
     ]
    }
   ],
   "source": [
    "state = 2\n",
    "probs = read_and_process_text('poezieRO.txt', state)\n",
    "poem = generate_poem(probs, 100)\n",
    "print(poem)"
   ]
  }
 ],
 "metadata": {
  "kernelspec": {
   "display_name": "Python 3",
   "language": "python",
   "name": "python3"
  },
  "language_info": {
   "codemirror_mode": {
    "name": "ipython",
    "version": 3
   },
   "file_extension": ".py",
   "mimetype": "text/x-python",
   "name": "python",
   "nbconvert_exporter": "python",
   "pygments_lexer": "ipython3",
   "version": "3.11.2"
  }
 },
 "nbformat": 4,
 "nbformat_minor": 2
}
