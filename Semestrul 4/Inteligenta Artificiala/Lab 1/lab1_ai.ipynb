{
  "nbformat": 4,
  "nbformat_minor": 0,
  "metadata": {
    "colab": {
      "provenance": [],
      "collapsed_sections": [
        "a-VXlOX2xLNN",
        "4ZJnHSzcm4W1",
        "pKO_zu-RrtfO"
      ],
      "toc_visible": true
    },
    "kernelspec": {
      "name": "python3",
      "display_name": "Python 3"
    },
    "language_info": {
      "name": "python"
    }
  },
  "cells": [
    {
      "cell_type": "markdown",
      "source": [
        "# 1. Să se determine ultimul (din punct de vedere alfabetic) cuvânt care poate apărea într-un text care conține mai multe cuvinte separate prin ” ” (spațiu). De ex. ultimul (dpdv alfabetic) cuvânt din ”Ana are mere rosii si galbene” este cuvântul \"si\"."
      ],
      "metadata": {
        "id": "a-VXlOX2xLNN"
      }
    },
    {
      "cell_type": "markdown",
      "source": [
        "Implementare 1 <br>\n",
        "Complexitate: O(n) unde n este numarul de cuvinte din propozitie"
      ],
      "metadata": {
        "id": "kYxya4KHxPHh"
      }
    },
    {
      "cell_type": "code",
      "source": [
        "def ultimul_cuvant1(sentence):\n",
        "  '''\n",
        "  @param: str sentence\n",
        "  @returns: str\n",
        "  '''\n",
        "  sentence = sentence.lower()  # schimbam mazusculele in litere mici O(n)\n",
        "  sentence = sentence.split()  # facem propozitia o lista de cuvinte O(n)\n",
        "  max_word = ''\n",
        "  for word in sentence:\n",
        "    if word > max_word:\n",
        "      max_word = word\n",
        "  return max_word\n",
        "\n",
        "assert(ultimul_cuvant1(\"Ana are mere si prune\") == \"si\")\n",
        "assert(ultimul_cuvant1(\"Ana nu mai are prune\") == \"prune\")"
      ],
      "metadata": {
        "id": "uayzfK8xxS3j"
      },
      "execution_count": null,
      "outputs": []
    },
    {
      "cell_type": "markdown",
      "source": [
        "Implementare 2 <br>\n",
        "Complexiatate: O(n)"
      ],
      "metadata": {
        "id": "saq_0ey_0HCU"
      }
    },
    {
      "cell_type": "code",
      "source": [
        "def ultimul_cuvant2(sentence):\n",
        "  '''\n",
        "  @param: str sentence\n",
        "  @returns: str\n",
        "  '''\n",
        "  sentence = sentence.split()\n",
        "  return max(sentence)\n",
        "\n",
        "assert(ultimul_cuvant2(\"AAAAAna are mere si prune\") == \"si\")\n",
        "assert(ultimul_cuvant2(\"Ana nu mai are prune\") == \"prune\")"
      ],
      "metadata": {
        "id": "FrIqx1xD0Mmk"
      },
      "execution_count": null,
      "outputs": []
    },
    {
      "cell_type": "markdown",
      "source": [
        "# 2. Să se determine distanța Euclideană între două locații identificate prin perechi de numere. De ex. distanța între (1,5) și (4,1) este 5.0"
      ],
      "metadata": {
        "id": "4ZJnHSzcm4W1"
      }
    },
    {
      "cell_type": "markdown",
      "source": [
        "Implementare 1 <br>\n",
        "Complexitate: O(1)"
      ],
      "metadata": {
        "id": "WkxoB76Km_Qg"
      }
    },
    {
      "cell_type": "code",
      "execution_count": null,
      "metadata": {
        "colab": {
          "base_uri": "https://localhost:8080/"
        },
        "id": "4zdb9Vh3mhTN",
        "outputId": "100dd1ef-a469-44e5-c49e-1439ab1ca622"
      },
      "outputs": [
        {
          "output_type": "execute_result",
          "data": {
            "text/plain": [
              "5.0"
            ]
          },
          "metadata": {},
          "execution_count": 31
        }
      ],
      "source": [
        "def euclidiean_distance(x1, y1, x2, y2):\n",
        "  '''\n",
        "  param: x1, y1, x2, y2 integers\n",
        "  returns: float\n",
        "  '''\n",
        "  return math.sqrt((x2-x1) ** 2 + (y2-y1) ** 2)\n",
        "\n",
        "euclidiean_distance(1, 5, 4, 1)"
      ]
    },
    {
      "cell_type": "markdown",
      "source": [
        "Implementare 2<br>\n",
        "Complexitate: O(1)"
      ],
      "metadata": {
        "id": "lUnWQtzwp4dZ"
      }
    },
    {
      "cell_type": "code",
      "source": [
        "from math import dist\n",
        "\n",
        "def euclidean_distance(x1, y1, x2, y2):\n",
        "  '''\n",
        "  param: x1, y1, x2, y2 integers\n",
        "  returns: float\n",
        "  '''\n",
        "  return dist((x1, y1), (x2, y2))\n",
        "\n",
        "assert(euclidiean_distance(1, 5, 4, 1) == 5.0)\n",
        "assert(euclidiean_distance(1, 5, 4, 1) != 4.0)"
      ],
      "metadata": {
        "id": "H00Oo8_NqBC8"
      },
      "execution_count": null,
      "outputs": []
    },
    {
      "cell_type": "markdown",
      "source": [
        "# 3. Să se determine produsul scalar a doi vectori rari care conțin numere reale. Un vector este rar atunci când conține multe elemente nule. Vectorii pot avea oricâte dimensiuni. De ex. produsul scalar a 2 vectori unisimensionali [1,0,2,0,3] și [1,2,0,3,1] este 4."
      ],
      "metadata": {
        "id": "pKO_zu-RrtfO"
      }
    },
    {
      "cell_type": "markdown",
      "source": [
        "Implementare 1 <br>\n",
        "Complexitate: O(n) unde n = dimensiunea vectorului"
      ],
      "metadata": {
        "id": "i-qwuXhwryc5"
      }
    },
    {
      "cell_type": "code",
      "source": [
        "def produs_scalar1(v1, v2):\n",
        "  '''\n",
        "  param: v1, v2 lists\n",
        "  returns: int\n",
        "  Calculeaza produsul scalar a doi vectori\n",
        "  '''\n",
        "  produs_scalar = 0\n",
        "  for i in range(0, min(len(v1), len(v2))):\n",
        "    produs_scalar += v1[i] * v2[i]\n",
        "  return produs_scalar\n",
        "\n",
        "assert(produs_scalar1([1, 0, 2, 0, 3], [1, 2, 0, 3, 1]) == 4)"
      ],
      "metadata": {
        "id": "SvqrsDmvrxp5"
      },
      "execution_count": null,
      "outputs": []
    },
    {
      "cell_type": "markdown",
      "source": [
        "Implementare 2 (ChatGPT)<br>\n",
        "Complexitate: O(n)"
      ],
      "metadata": {
        "id": "2RdXmKCpu7Ul"
      }
    },
    {
      "cell_type": "code",
      "source": [
        "def produs_scalar2(v1, v2):\n",
        "  '''\n",
        "  param: v1, v2 lists\n",
        "  returns: int\n",
        "  Calculeaza produsul scalar a doi vectori\n",
        "  '''\n",
        "  if len(v1) != len(v2):\n",
        "    raise ValueError(\"Vectorii trebuie sa aiba aceeasi lungime!\")\n",
        "  return sum(x * y for x, y in zip(v1, v2)) # zip = iteratie paralela\n",
        "\n",
        "assert(produs_scalar2([1, 0, 2, 0, 3], [1, 2, 0, 3, 1]) == 4)"
      ],
      "metadata": {
        "id": "BWTUnfuyu2fq"
      },
      "execution_count": null,
      "outputs": []
    },
    {
      "cell_type": "markdown",
      "source": [
        "# 4. Să se determine cuvintele unui text care apar exact o singură dată în acel text. De ex. cuvintele care apar o singură dată în ”ana are ana are mere rosii ana\" sunt: 'mere' și 'rosii'."
      ],
      "metadata": {
        "id": "HfxRD_nBrjs-"
      }
    },
    {
      "cell_type": "markdown",
      "source": [
        "Implementare 1\n",
        "<br>\n",
        "Complexitate: O(n^2) - metoda ineficienta din punct de vedere al timpului"
      ],
      "metadata": {
        "id": "Pk-qLElCroS0"
      }
    },
    {
      "cell_type": "code",
      "source": [
        "def single_words1(sentence):\n",
        "  '''\n",
        "  @param: str sentence\n",
        "  @returns: list - Lista cuvintelor ce apar doar o singura data\n",
        "  '''\n",
        "  words = sentence.split()\n",
        "  single_words = []\n",
        "  for i in range(0, len(words)):\n",
        "    nr = 0\n",
        "    for j in range(0, len(words)):\n",
        "      if words[i] == words[j]:\n",
        "        nr+=1\n",
        "    if nr == 1:\n",
        "      single_words.append(words[i])\n",
        "  return single_words\n",
        "\n",
        "assert(single_words1(\"Ana are mere si are mere si pere\") == ['Ana', 'pere'])\n",
        "assert(single_words1(\"qwerty qw qwerty\") == ['qw'])"
      ],
      "metadata": {
        "id": "_jMSDtuxrs_Q",
        "outputId": "c288fd1e-d56e-4349-9d5a-264e5255bc34",
        "colab": {
          "base_uri": "https://localhost:8080/"
        }
      },
      "execution_count": null,
      "outputs": [
        {
          "output_type": "stream",
          "name": "stdout",
          "text": [
            "<class 'list'>\n",
            "<class 'list'>\n"
          ]
        }
      ]
    },
    {
      "cell_type": "markdown",
      "source": [
        "Implementare 2\n",
        "<br>\n",
        "Complexitate: O(n)"
      ],
      "metadata": {
        "id": "YJoIXj80xQED"
      }
    },
    {
      "cell_type": "code",
      "source": [
        "from collections import Counter\n",
        "\n",
        "def single_words2(sentence):\n",
        "  counter = Counter(sentence.split())   # face un dictionar {'cuvant': nr_aparitii}\n",
        "  # print(counter)\n",
        "  return list(word for word, nr in counter.items() if nr == 1)  # returneaza cuvintele a caror valoare din dictionar = 1\n",
        "\n",
        "assert(single_words2(\"Ana are mere si are mere si pere\") == ['Ana', 'pere'])\n",
        "assert(single_words2(\"qwerty qw qwerty\") == ['qw'])"
      ],
      "metadata": {
        "id": "6znkfwZhulZQ"
      },
      "execution_count": null,
      "outputs": []
    },
    {
      "cell_type": "markdown",
      "source": [
        "Implementare 3 (ChatGPT) <br>\n",
        "Complexitate: O(n)"
      ],
      "metadata": {
        "id": "M_RO31EqJFSu"
      }
    },
    {
      "cell_type": "code",
      "source": [
        "def single_words3(sentence):\n",
        "    word_counts = {}\n",
        "\n",
        "    # Count the occurrences of each word\n",
        "    for word in sentence.split():\n",
        "        word_counts[word] = word_counts.get(word, 0) + 1\n",
        "\n",
        "    # Filter out words with count equal to 1\n",
        "    unique_words = [word for word, count in word_counts.items() if count == 1]\n",
        "\n",
        "    return unique_words\n",
        "\n",
        "assert(single_words3(\"Ana are mere si are mere si pere\") == ['Ana', 'pere'])\n",
        "assert(single_words3(\"qwerty qw qwerty\") == ['qw'])"
      ],
      "metadata": {
        "id": "OxW6W-S7JKJ7"
      },
      "execution_count": null,
      "outputs": []
    },
    {
      "cell_type": "markdown",
      "source": [
        "# 5. Pentru un șir cu n elemente care conține valori din mulțimea {1, 2, ..., n - 1} astfel încât o singură valoare se repetă de două ori, să se identifice acea valoare care se repetă. De ex. în șirul [1,2,3,4,2] valoarea 2 apare de două ori."
      ],
      "metadata": {
        "id": "89UdBoW9XpPO"
      }
    },
    {
      "cell_type": "markdown",
      "source": [
        "Implementare 1 <br>\n",
        "Complexitate: O(n)"
      ],
      "metadata": {
        "id": "j8mfTXx9XuYu"
      }
    },
    {
      "cell_type": "code",
      "source": [
        "from collections import Counter\n",
        "\n",
        "def double_word(numbers):\n",
        "  counter = Counter(numbers)      # (numar: numar de aparitii)\n",
        "  for number in counter.items():\n",
        "    # print(number)\n",
        "    if number[1] == 2:           # numarul ce are numarul de aparitii = 2 este returnat\n",
        "      return number[0]\n",
        "\n",
        "assert(double_word([1, 2, 3, 4, 2]) == 2)"
      ],
      "metadata": {
        "id": "oeSYMXqIX49o"
      },
      "execution_count": null,
      "outputs": []
    },
    {
      "cell_type": "markdown",
      "source": [
        "Implementare 2 <br>\n",
        "Complexitate: O(n)\n",
        "- ineficient din punct de vedere al spatiului"
      ],
      "metadata": {
        "id": "uv1mX_XPamuy"
      }
    },
    {
      "cell_type": "code",
      "source": [
        "def double_word2(numbers):\n",
        "  # folosind vector de frecventa\n",
        "  freq = [0] * 100\n",
        "  for number in numbers:\n",
        "    freq[number] += 1\n",
        "    if freq[number] == 2:\n",
        "      return number\n",
        "\n",
        "double_word2([1, 1, 2, 4, 3])\n",
        "assert(double_word2([1, 2, 3, 4, 2]) == 2)"
      ],
      "metadata": {
        "id": "O2JEp5bya-5x"
      },
      "execution_count": null,
      "outputs": []
    },
    {
      "cell_type": "markdown",
      "source": [
        "Implementare 3 (ChatGPT) <br>\n",
        "Complexitate: O(n)"
      ],
      "metadata": {
        "id": "f4WCAnB2cSAy"
      }
    },
    {
      "cell_type": "code",
      "source": [
        "def find_duplicate(nums):\n",
        "    num_set = set()\n",
        "\n",
        "    for num in nums:\n",
        "        if num in num_set:\n",
        "            return num\n",
        "        else:\n",
        "            num_set.add(num)\n",
        "\n",
        "assert(find_duplicate([1, 2, 3, 4, 2]) == 2)"
      ],
      "metadata": {
        "id": "6eq3caGVcoMi"
      },
      "execution_count": null,
      "outputs": []
    },
    {
      "cell_type": "markdown",
      "source": [
        "# 6. Pentru un șir cu n numere întregi care conține și duplicate, să se determine elementul majoritar (care apare de mai mult de n / 2 ori). De ex. 2 este elementul majoritar în șirul [2,8,7,2,2,5,2,3,1,2,2]."
      ],
      "metadata": {
        "id": "17HAP7zcuiJP"
      }
    },
    {
      "cell_type": "markdown",
      "source": [
        "Implementare 1 <br>\n",
        "Complexitate: O(n)\n",
        "- ineficient din punct de vedere al spatiului\n"
      ],
      "metadata": {
        "id": "r3u0WYsAupcQ"
      }
    },
    {
      "cell_type": "code",
      "source": [
        "def maj1(numbers):\n",
        "  # folosing un vector de frecventa\n",
        "  freq = [0]*100\n",
        "  for number in numbers:\n",
        "    freq[number] += 1\n",
        "    if freq[number] > (len(numbers) / 2):\n",
        "      return number\n",
        "  return -1\n",
        "\n",
        "assert(maj1([2,8,7,2,2,5,2,3,1,2,2]) == 2)\n",
        "assert(maj1([1,4,2,3,4,4,4]) == 4)"
      ],
      "metadata": {
        "id": "3WnqYzmLuwRI"
      },
      "execution_count": null,
      "outputs": []
    },
    {
      "cell_type": "markdown",
      "source": [
        "Implementare 2 <br>\n",
        "Complexitate: O(n)"
      ],
      "metadata": {
        "id": "xnk8ysSHwPhC"
      }
    },
    {
      "cell_type": "code",
      "source": [
        "from collections import Counter\n",
        "\n",
        "def maj2(numbers):\n",
        "  counter = Counter(numbers)\n",
        "  for number in counter.items():\n",
        "    if number[1] > (len(numbers) / 2):\n",
        "      return number[0]\n",
        "  return -1\n",
        "\n",
        "assert(maj2([2,8,7,2,2,5,2,3,1,2,2]) == 2)\n",
        "assert(maj2([1,4,2,3,4,4,4]) == 4)"
      ],
      "metadata": {
        "id": "zinaexJIwYX4"
      },
      "execution_count": null,
      "outputs": []
    },
    {
      "cell_type": "markdown",
      "source": [
        "# 7. Să se determine al k-lea cel mai mare element al unui șir de numere cu n elemente (k < n). De ex. al 2-lea cel mai mare element din șirul [7,4,6,3,9,1] este 7."
      ],
      "metadata": {
        "id": "D6xxplPwvngT"
      }
    },
    {
      "cell_type": "markdown",
      "source": [
        "Implementare 1\n",
        "<br>\n",
        "Complexitate: O(nlogn)"
      ],
      "metadata": {
        "id": "mo-_jlcpvsaP"
      }
    },
    {
      "cell_type": "code",
      "source": [
        "def numarK(numbers, k):\n",
        "  '''\n",
        "  @param: list numbers\n",
        "  @param: int k\n",
        "  @returns: int\n",
        "\n",
        "  '''\n",
        "  numbers.sort(reverse=True)    # sorts the numbers in reverse order\n",
        "  # print(numbers)\n",
        "  return numbers[k-1]\n",
        "\n",
        "assert(numarK([7,4,6,3,9,1], 2) == 7)\n",
        "assert(numarK([4,6,3,9,1], 3) == 4)"
      ],
      "metadata": {
        "id": "q0VfD7gxvvam",
        "outputId": "9d8c93cb-3d06-46ba-9adf-9537d651ecbf",
        "colab": {
          "base_uri": "https://localhost:8080/"
        }
      },
      "execution_count": null,
      "outputs": [
        {
          "output_type": "stream",
          "name": "stdout",
          "text": [
            "<class 'list'>\n",
            "<class 'list'>\n"
          ]
        }
      ]
    },
    {
      "cell_type": "markdown",
      "source": [
        "Implementare 2 (ChatGPT - gresit!)<br>\n",
        "Complexitate: O(nlogk)"
      ],
      "metadata": {
        "id": "Ly9lADuF0nPo"
      }
    },
    {
      "cell_type": "code",
      "source": [
        "import heapq\n",
        "\n",
        "def find_k_largest(numbers, k):\n",
        "    min_heap = []\n",
        "\n",
        "    # Populate the min-heap with the first k elements\n",
        "    for num in numbers[:k]:\n",
        "        heapq.heappush(min_heap, num)\n",
        "\n",
        "    # Iterate through the remaining elements\n",
        "    for num in numbers[k:]:\n",
        "        # If the current element is larger than the smallest element in the heap,\n",
        "        # replace the smallest element with the current element\n",
        "        if num > min_heap[0]:\n",
        "            heapq.heappop(min_heap)\n",
        "            heapq.heappush(min_heap, num)\n",
        "\n",
        "    # The min-heap now contains the k largest elements\n",
        "    k_largest = list(min_heap)\n",
        "    return k_largest\n",
        "\n",
        "assert(find_k_largest([7,4,6,3,9,1], 2) == 7)\n",
        "assert(find_k_largest([4,6,3,9,1], 3) == 4)"
      ],
      "metadata": {
        "id": "T5TFLcv10uTo",
        "outputId": "2ecbc132-de75-43cf-88d6-148dafc65d60",
        "colab": {
          "base_uri": "https://localhost:8080/",
          "height": 193
        }
      },
      "execution_count": null,
      "outputs": [
        {
          "output_type": "error",
          "ename": "AssertionError",
          "evalue": "",
          "traceback": [
            "\u001b[0;31m---------------------------------------------------------------------------\u001b[0m",
            "\u001b[0;31mAssertionError\u001b[0m                            Traceback (most recent call last)",
            "\u001b[0;32m<ipython-input-14-614668a3f102>\u001b[0m in \u001b[0;36m<cell line: 22>\u001b[0;34m()\u001b[0m\n\u001b[1;32m     20\u001b[0m     \u001b[0;32mreturn\u001b[0m \u001b[0mk_largest\u001b[0m\u001b[0;34m\u001b[0m\u001b[0;34m\u001b[0m\u001b[0m\n\u001b[1;32m     21\u001b[0m \u001b[0;34m\u001b[0m\u001b[0m\n\u001b[0;32m---> 22\u001b[0;31m \u001b[0;32massert\u001b[0m\u001b[0;34m(\u001b[0m\u001b[0mfind_k_largest\u001b[0m\u001b[0;34m(\u001b[0m\u001b[0;34m[\u001b[0m\u001b[0;36m7\u001b[0m\u001b[0;34m,\u001b[0m\u001b[0;36m4\u001b[0m\u001b[0;34m,\u001b[0m\u001b[0;36m6\u001b[0m\u001b[0;34m,\u001b[0m\u001b[0;36m3\u001b[0m\u001b[0;34m,\u001b[0m\u001b[0;36m9\u001b[0m\u001b[0;34m,\u001b[0m\u001b[0;36m1\u001b[0m\u001b[0;34m]\u001b[0m\u001b[0;34m,\u001b[0m \u001b[0;36m2\u001b[0m\u001b[0;34m)\u001b[0m \u001b[0;34m==\u001b[0m \u001b[0;36m7\u001b[0m\u001b[0;34m)\u001b[0m\u001b[0;34m\u001b[0m\u001b[0;34m\u001b[0m\u001b[0m\n\u001b[0m\u001b[1;32m     23\u001b[0m \u001b[0;32massert\u001b[0m\u001b[0;34m(\u001b[0m\u001b[0mfind_k_largest\u001b[0m\u001b[0;34m(\u001b[0m\u001b[0;34m[\u001b[0m\u001b[0;36m4\u001b[0m\u001b[0;34m,\u001b[0m\u001b[0;36m6\u001b[0m\u001b[0;34m,\u001b[0m\u001b[0;36m3\u001b[0m\u001b[0;34m,\u001b[0m\u001b[0;36m9\u001b[0m\u001b[0;34m,\u001b[0m\u001b[0;36m1\u001b[0m\u001b[0;34m]\u001b[0m\u001b[0;34m,\u001b[0m \u001b[0;36m3\u001b[0m\u001b[0;34m)\u001b[0m \u001b[0;34m==\u001b[0m \u001b[0;36m4\u001b[0m\u001b[0;34m)\u001b[0m\u001b[0;34m\u001b[0m\u001b[0;34m\u001b[0m\u001b[0m\n",
            "\u001b[0;31mAssertionError\u001b[0m: "
          ]
        }
      ]
    },
    {
      "cell_type": "markdown",
      "source": [
        "# 8. Să se genereze toate numerele (în reprezentare binară) cuprinse între 1 și n. De ex. dacă n = 4, numerele sunt: 1, 10, 11, 100.\n",
        "\n"
      ],
      "metadata": {
        "id": "sgA-kGqJ1E4y"
      }
    },
    {
      "cell_type": "markdown",
      "source": [
        "Implementare 1 <br>\n",
        "Complexitate: O()"
      ],
      "metadata": {
        "id": "qgWanh4S1Iyb"
      }
    },
    {
      "cell_type": "code",
      "source": [
        "import numpy as np\n",
        "\n",
        "def number_to_binary(number):\n",
        "  '''\n",
        "  @param: int number\n",
        "  @returns: int - the number in binary form\n",
        "  '''\n",
        "  binary_number = [0] * number\n",
        "  i = 0\n",
        "  while (number > 0):                 # creating the binary number\n",
        "    binary_number[i] = number % 2;\n",
        "    number = int(number / 2)\n",
        "    i += 1\n",
        "  binary = binary_number[:i]\n",
        "  binary.reverse()\n",
        "  binary = np.array(binary)\n",
        "  return int(\"\".join(map(str, binary)))\n",
        "\n",
        "def binary_numbers(n):              # main function\n",
        "  '''\n",
        "  @param: int n\n",
        "  @returns: list of binary numbers from 1 to n\n",
        "  '''\n",
        "  binary_numbers = []\n",
        "  for number in range(1,n+1):\n",
        "    binary_number = number_to_binary(number)\n",
        "    binary_numbers.append(binary_number)\n",
        "  return binary_numbers\n",
        "\n",
        "assert(binary_numbers(4) == [1, 10, 11, 100])\n",
        "assert(binary_numbers(5) == [1, 10, 11, 100, 101])"
      ],
      "metadata": {
        "id": "f0QusGd71IEz"
      },
      "execution_count": null,
      "outputs": []
    },
    {
      "cell_type": "markdown",
      "source": [
        "Implementare 2 (ChatGPT) <br>\n",
        "Complexitate: O()"
      ],
      "metadata": {
        "id": "rqbgnvBU7tNs"
      }
    },
    {
      "cell_type": "code",
      "source": [
        "def generate_binary_numbers(n):\n",
        "    '''\n",
        "    @param: int n\n",
        "    @returns: list of binary numbers from 1 to n\n",
        "    '''\n",
        "    binary_numbers = []\n",
        "\n",
        "    for i in range(1, n + 1):\n",
        "        binary_numbers.append(int(bin(i)[2:]))  # Convert to binary and remove the '0b' prefix\n",
        "    # print(binary_numbers)\n",
        "    return binary_numbers\n",
        "\n",
        "\n",
        "assert(generate_binary_numbers(4) == [1, 10, 11, 100])\n",
        "assert(generate_binary_numbers(5) == [1, 10, 11, 100, 101])"
      ],
      "metadata": {
        "id": "C1rON6_P7xkC"
      },
      "execution_count": null,
      "outputs": []
    },
    {
      "cell_type": "markdown",
      "source": [
        "# 9. Considerându-se o matrice cu n x m elemente întregi și o listă cu perechi formate din coordonatele a 2 căsuțe din matrice ((p,q) și (r,s)), să se calculeze suma elementelor din sub-matricile identificate de fieare pereche."
      ],
      "metadata": {
        "id": "mJY7Wzx6dyIX"
      }
    },
    {
      "cell_type": "markdown",
      "source": [
        "Implementare 1\n",
        "<br>\n",
        "Complexitate: O(n^2)"
      ],
      "metadata": {
        "id": "lbwgSIDZeCIl"
      }
    },
    {
      "cell_type": "code",
      "source": [
        "def sum_sub_matrix(matrix, p, q, r, s):\n",
        "  '''\n",
        "  @param: matrix\n",
        "  @param: p, q, r, s: int\n",
        "  @returns: int\n",
        "  '''\n",
        "  sum = 0\n",
        "  for i in range(p, r+1):\n",
        "    for j in range(q, s+1):\n",
        "      # print(i, j)\n",
        "      # print(matrix[i][j])\n",
        "      sum += matrix[i][j]\n",
        "  return sum\n",
        "\n",
        "assert(sum_sub_matrix([[0, 2, 5, 4, 1],[4, 8, 2, 3, 7],[6, 3, 4, 6, 2],[7, 3, 1, 8, 3],[1, 5, 7, 9, 4]], 1, 1, 3, 3) == 38)\n",
        "assert(sum_sub_matrix([[0, 2, 5, 4, 1],[4, 8, 2, 3, 7],[6, 3, 4, 6, 2],[7, 3, 1, 8, 3],[1, 5, 7, 9, 4]], 2, 2, 4, 4) == 44)"
      ],
      "metadata": {
        "id": "jR_Zr7B9eFs9"
      },
      "execution_count": null,
      "outputs": []
    },
    {
      "cell_type": "markdown",
      "source": [
        "# 10. Considerându-se o matrice cu n x m elemente binare (0 sau 1) sortate crescător pe linii, să se identifice indexul liniei care conține cele mai multe elemente de 1."
      ],
      "metadata": {
        "id": "joTK7BexiE5M"
      }
    },
    {
      "cell_type": "markdown",
      "source": [
        "Implementare 1\n",
        "<br>\n",
        "Complexitate: O(n*m)"
      ],
      "metadata": {
        "id": "gwOqOYG9iKpN"
      }
    },
    {
      "cell_type": "code",
      "source": [
        "def max_matrix(matrix):\n",
        "  '''\n",
        "  @param: matrix\n",
        "  @returns: index - int\n",
        "  '''\n",
        "  max = 0\n",
        "  i = 0\n",
        "  index = -1\n",
        "  for line in matrix:\n",
        "    sum = 0\n",
        "    for el in line:\n",
        "      sum += el\n",
        "    if sum > max:\n",
        "      max = sum\n",
        "      index = i\n",
        "    i += 1\n",
        "  return index\n",
        "\n",
        "assert(max_matrix([[0,0,0,1,1],[0,1,1,1,1],[0,0,1,1,1]]) == 1)"
      ],
      "metadata": {
        "id": "FO_E4jBniOec"
      },
      "execution_count": null,
      "outputs": []
    }
  ]
}