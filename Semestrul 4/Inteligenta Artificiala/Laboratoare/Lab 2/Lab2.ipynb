{
  "nbformat": 4,
  "nbformat_minor": 0,
  "metadata": {
    "colab": {
      "provenance": []
    },
    "kernelspec": {
      "name": "python3",
      "display_name": "Python 3"
    },
    "language_info": {
      "name": "python"
    }
  },
  "cells": [
    {
      "cell_type": "markdown",
      "source": [
        "# 1. Angajati"
      ],
      "metadata": {
        "id": "DiYsgZ5duLpz"
      }
    },
    {
      "cell_type": "code",
      "execution_count": null,
      "metadata": {
        "id": "fP8dLl2yuE_h"
      },
      "outputs": [],
      "source": [
        "import pandas as pd\n",
        "import numpy as np\n",
        "\n",
        "df_employees = pd.read_csv('/employees.csv')\n",
        "print(df_employees)"
      ]
    },
    {
      "cell_type": "markdown",
      "source": [
        "- numarul de angajati\n",
        "\n",
        "\n"
      ],
      "metadata": {
        "id": "oWMRmZd6ugi9"
      }
    },
    {
      "cell_type": "code",
      "source": [
        "nr_employees = len(df_employees)\n",
        "print(f\"Numarul de angajati: {nr_employees}\")"
      ],
      "metadata": {
        "colab": {
          "base_uri": "https://localhost:8080/"
        },
        "id": "9Vnvbqo0zFaD",
        "outputId": "9e33db6a-a2e2-4996-fa28-01bc9a45aa89"
      },
      "execution_count": null,
      "outputs": [
        {
          "output_type": "stream",
          "name": "stdout",
          "text": [
            "Numarul de angajati: 1000\n"
          ]
        }
      ]
    },
    {
      "cell_type": "markdown",
      "source": [
        "- numar si tipul informatiilor (proprietatilor) detinute pentru un angajat"
      ],
      "metadata": {
        "id": "iBn-Qryu0Sgo"
      }
    },
    {
      "cell_type": "code",
      "source": [
        "print(f\"Numarul informatiilor detinute pentru un angajat: {len(df_employees.columns)}\")\n",
        "print(f\"Informatiile detinute despre un angajat: {df_employees.columns.values}\")"
      ],
      "metadata": {
        "colab": {
          "base_uri": "https://localhost:8080/"
        },
        "id": "psRlk4990T9o",
        "outputId": "52053e6f-6092-482f-8da9-6abc094267f9"
      },
      "execution_count": null,
      "outputs": [
        {
          "output_type": "stream",
          "name": "stdout",
          "text": [
            "Numarul informatiilor detinute pentru un angajat: 8\n",
            "Informatiile detinute despre un angajat: ['First Name' 'Gender' 'Start Date' 'Last Login Time' 'Salary' 'Bonus %'\n",
            " 'Senior Management' 'Team']\n"
          ]
        }
      ]
    },
    {
      "cell_type": "markdown",
      "source": [
        "- numarul de angajati pentru care se detin date complete"
      ],
      "metadata": {
        "id": "mTMFk6v40W-I"
      }
    },
    {
      "cell_type": "code",
      "source": [
        "employees = df_employees.dropna(axis=0, how='any')\n",
        "print(f\"Numarul de angajati cu date complete: {len(employees)}\")"
      ],
      "metadata": {
        "colab": {
          "base_uri": "https://localhost:8080/"
        },
        "id": "QgjXDOAe0X2w",
        "outputId": "af0b9c3b-95b1-4066-87bd-40681dd351fb"
      },
      "execution_count": null,
      "outputs": [
        {
          "output_type": "stream",
          "name": "stdout",
          "text": [
            "Numarul de angajati cu date complete: 1000\n"
          ]
        }
      ]
    },
    {
      "cell_type": "markdown",
      "source": [
        "- valorile minime, maxime, medii pentru fiecare proprietate"
      ],
      "metadata": {
        "id": "4RSQGmvL0YLo"
      }
    },
    {
      "cell_type": "code",
      "source": [
        "for series_name, series in df_employees.items():\n",
        "  try:\n",
        "    print(f\"{series_name}: min => {min(series)}, max => {max(series)}, avg => {series.mean()}\")\n",
        "  except:\n",
        "    pass"
      ],
      "metadata": {
        "colab": {
          "base_uri": "https://localhost:8080/"
        },
        "id": "p3QVeTFe0bls",
        "outputId": "ecbef699-98b4-4541-a2bc-2d6a135ccca9"
      },
      "execution_count": null,
      "outputs": [
        {
          "output_type": "stream",
          "name": "stdout",
          "text": [
            "Salary: min => 35013, max => 149908, avg => 90662.181\n",
            "Bonus %: min => 1.015, max => 19.944, avg => 10.207555000000001\n",
            "Senior Management: min => False, max => True, avg => 0.5016077170418006\n"
          ]
        }
      ]
    },
    {
      "cell_type": "markdown",
      "source": [
        "- in cazul proprietatilor nenumerice, cate valori posibile are fiecare astfel de proprietate"
      ],
      "metadata": {
        "id": "KZJxCis65JY8"
      }
    },
    {
      "cell_type": "code",
      "source": [
        "for series_name, series in df_employees.items():\n",
        "  print(f\"{series_name}: {len(pd.unique(series))}\")"
      ],
      "metadata": {
        "colab": {
          "base_uri": "https://localhost:8080/"
        },
        "id": "h6AOdkfL5Kt3",
        "outputId": "e4952177-c190-42a8-aeb6-e017fb275566"
      },
      "execution_count": null,
      "outputs": [
        {
          "output_type": "stream",
          "name": "stdout",
          "text": [
            "First Name: 201\n",
            "Gender: 3\n",
            "Start Date: 972\n",
            "Last Login Time: 720\n",
            "Salary: 995\n",
            "Bonus %: 971\n",
            "Senior Management: 3\n",
            "Team: 11\n"
          ]
        }
      ]
    },
    {
      "cell_type": "markdown",
      "source": [
        "- daca sunt valori lipsa si cum se poate rezolva aceasta problema"
      ],
      "metadata": {
        "id": "Ops80Pf55MqL"
      }
    },
    {
      "cell_type": "code",
      "source": [
        "new_df_employees = df_employees\n",
        "for series_name, series in new_df_employees.items():\n",
        "  new_df_employees[series_name].fillna(\"NaN\", inplace=True)\n",
        "\n",
        "print(f\"(*Acum) Numarul de angajati cu date complete: {len(new_df_employees.dropna(axis=0, how='any'))}\")\n"
      ],
      "metadata": {
        "colab": {
          "base_uri": "https://localhost:8080/"
        },
        "id": "uIqdt99s5N-R",
        "outputId": "dfa3e51e-a2df-4cb8-8c2b-517fbbab73e7"
      },
      "execution_count": null,
      "outputs": [
        {
          "output_type": "stream",
          "name": "stdout",
          "text": [
            "(*Acum) Numarul de angajati cu date complete: 1000\n"
          ]
        }
      ]
    }
  ]
}