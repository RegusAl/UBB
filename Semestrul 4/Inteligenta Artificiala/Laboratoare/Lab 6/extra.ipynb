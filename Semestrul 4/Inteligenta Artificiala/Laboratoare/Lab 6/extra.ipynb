{
 "cells": [
  {
   "cell_type": "markdown",
   "metadata": {},
   "source": [
    "### Leave-One-Out (Validare incrucisata)"
   ]
  },
  {
   "cell_type": "code",
   "execution_count": 43,
   "metadata": {},
   "outputs": [],
   "source": [
    "import csv\n",
    "import matplotlib.pyplot as plt \n",
    "import numpy as np \n",
    "import pandas as pd\n",
    "import sklearn\n",
    "from sklearn import metrics\n",
    "from sklearn import linear_model\n",
    "from sklearn.metrics import mean_squared_error"
   ]
  },
  {
   "cell_type": "code",
   "execution_count": 42,
   "metadata": {},
   "outputs": [
    {
     "name": "stdout",
     "output_type": "stream",
     "text": [
      "f(x) = [1.8147146] + 1.9312037922006973 * x\n",
      "Avg error: 3.220676246183306\n"
     ]
    }
   ],
   "source": [
    "df = pd.read_csv(\"data/world-happiness-report-2017.csv\")\n",
    "df.dropna()\n",
    "\n",
    "inputs = df[\"Economy..GDP.per.Capita.\"]\n",
    "outputs = df[\"Happiness.Score\"]\n",
    "\n",
    "nr = df.shape[0]\n",
    "# print(nr)\n",
    "\n",
    "arr = np.array_split(range(nr), nr)\n",
    "\n",
    "input_sets = [[df[\"Economy..GDP.per.Capita.\"].iloc[index] for index in indexes] for indexes in arr]\n",
    "output_sets = [[df[\"Happiness.Score\"].iloc[index] for index in indexes] for indexes in arr]\n",
    "\n",
    "# print(input_sets)\n",
    "# print(output_sets)\n",
    "\n",
    "errors = []\n",
    "\n",
    "for i in range(nr):\n",
    "    test_input, test_output = input_sets[i], output_sets[i]\n",
    "    train_input = []\n",
    "    train_output = []\n",
    "    regressor = linear_model.SGDRegressor()\n",
    "    for j in range(nr):\n",
    "        if j != i:\n",
    "            train_input += input_sets[j]\n",
    "            train_output += output_sets[j]\n",
    "\n",
    "    xx = [[el] for el in train_input]\n",
    "    regressor.partial_fit(xx, train_output)\n",
    "\n",
    "    xx = [[el] for el in test_input]\n",
    "    computed_output = regressor.predict(xx)\n",
    "\n",
    "    errors.append(mean_squared_error(test_output, computed_output))\n",
    "\n",
    "\n",
    "w0, w1 = regressor.intercept_, regressor.coef_[0]\n",
    "print(f\"f(x) = {w0} + {w1} * x\")\n",
    "# print(errors)\n",
    "print(f\"Avg error: {sum(errors) / len(errors)}\")"
   ]
  },
  {
   "cell_type": "markdown",
   "metadata": {},
   "source": [
    "### Functii de loss"
   ]
  },
  {
   "cell_type": "code",
   "execution_count": 50,
   "metadata": {},
   "outputs": [],
   "source": [
    "df = pd.read_csv(\"data/world-happiness-report-2017.csv\")\n",
    "\n",
    "df.dropna()\n",
    "\n",
    "inputs = df[\"Economy..GDP.per.Capita.\"]\n",
    "outputs = df[\"Happiness.Score\"]\n",
    "\n",
    "# impartire in training si testing data\n",
    "indexes = [i for i in range(len(inputs))]\n",
    "trainSample = np.random.choice(indexes, int(0.8 * len(inputs)), replace = False)\n",
    "testSample = [i for i in indexes  if not i in trainSample]\n",
    "\n",
    "trainInputs = [inputs[i] for i in trainSample]\n",
    "trainOutputs = [outputs[i] for i in trainSample]\n",
    "\n",
    "testInputs = [inputs[i] for i in testSample]\n",
    "testOutputs = [outputs[i] for i in testSample]"
   ]
  },
  {
   "cell_type": "markdown",
   "metadata": {},
   "source": [
    "- squared error\n",
    "(media patratelor diferentelor dintr valorile reale si predictiile modelului)"
   ]
  },
  {
   "cell_type": "code",
   "execution_count": 59,
   "metadata": {},
   "outputs": [
    {
     "name": "stdout",
     "output_type": "stream",
     "text": [
      "0.7178090351675614\n"
     ]
    }
   ],
   "source": [
    "regressor = linear_model.SGDRegressor(loss=\"squared_error\")\n",
    "xx = [[el] for el in trainInputs]\n",
    "regressor.fit(xx, trainOutputs)\n",
    "computed_output = regressor.predict([[el] for el in testInputs])\n",
    "print(metrics.r2_score(y_true=testOutputs, y_pred=computed_output))\n"
   ]
  },
  {
   "cell_type": "markdown",
   "metadata": {},
   "source": [
    "- huber"
   ]
  },
  {
   "cell_type": "code",
   "execution_count": 58,
   "metadata": {},
   "outputs": [
    {
     "name": "stdout",
     "output_type": "stream",
     "text": [
      "0.48425514293139815\n"
     ]
    }
   ],
   "source": [
    "regressor = linear_model.SGDRegressor(loss=\"huber\")\n",
    "xx = [[el] for el in trainInputs]\n",
    "regressor.fit(xx, trainOutputs)\n",
    "computed_output = regressor.predict([[el] for el in testInputs])\n",
    "print(metrics.r2_score(y_true=testOutputs, y_pred=computed_output))\n"
   ]
  },
  {
   "cell_type": "markdown",
   "metadata": {},
   "source": [
    "- epsilon insensitive"
   ]
  },
  {
   "cell_type": "code",
   "execution_count": 60,
   "metadata": {},
   "outputs": [
    {
     "name": "stdout",
     "output_type": "stream",
     "text": [
      "0.7172822545132675\n"
     ]
    }
   ],
   "source": [
    "regressor = linear_model.SGDRegressor(loss=\"epsilon_insensitive\")\n",
    "xx = [[el] for el in trainInputs]\n",
    "regressor.fit(xx, trainOutputs)\n",
    "computed_output = regressor.predict([[el] for el in testInputs])\n",
    "print(metrics.r2_score(y_true=testOutputs, y_pred=computed_output))\n"
   ]
  },
  {
   "cell_type": "markdown",
   "metadata": {},
   "source": [
    "Ce se întamplă în cazul clasificarii binare daca se modifică pragul de decizie din 0.5 în alte valori. <br> \n",
    "Cum se poate aprecia calitatea clasificatorului pentru diferite valori ale pragului?"
   ]
  },
  {
   "cell_type": "markdown",
   "metadata": {},
   "source": [
    "- daca pragul de decizie scade (0.5 <), clasificatorul nu are nevoie de multa 'incredere' pentru a clasifica o predictie ca fiind corecta.\n",
    "- daca pragul de decizie creste, clasificatorul are nevoie de multa 'incredere' pentru a clasifica o predictie ca fiind corecta.\n"
   ]
  },
  {
   "cell_type": "code",
   "execution_count": 75,
   "metadata": {},
   "outputs": [
    {
     "data": {
      "image/png": "[encoded data removed]",
      "text/plain": [
       "<Figure size 640x480 with 1 Axes>"
      ]
     },
     "metadata": {},
     "output_type": "display_data"
    }
   ],
   "source": [
    "import numpy as np\n",
    "import matplotlib.pyplot as plt\n",
    "\n",
    "x = np.linspace(-10, 10, 100) \n",
    "sigmoid = 1 / (1 + np.exp(-x))\n",
    "\n",
    "plt.plot(x, sigmoid)\n",
    "plt.xlabel('x')\n",
    "plt.ylabel('y')\n",
    "plt.title('')\n",
    "\n",
    "plt.axhline(y=0.5, color='r', linestyle='--')\n",
    "plt.text(0, 0.5, '0.5', va='center', ha='right', backgroundcolor='w')\n",
    "plt.title(\"Binary sigmoid activation function\")\n",
    "\n",
    "plt.grid(True)\n",
    "plt.show()\n"
   ]
  }
 ],
 "metadata": {
  "kernelspec": {
   "display_name": "Python 3",
   "language": "python",
   "name": "python3"
  },
  "language_info": {
   "codemirror_mode": {
    "name": "ipython",
    "version": 3
   },
   "file_extension": ".py",
   "mimetype": "text/x-python",
   "name": "python",
   "nbconvert_exporter": "python",
   "pygments_lexer": "ipython3",
   "version": "3.10.12"
  }
 },
 "nbformat": 4,
 "nbformat_minor": 2
}
