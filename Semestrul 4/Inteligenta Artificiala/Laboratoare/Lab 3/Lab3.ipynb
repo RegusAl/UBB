{
 "cells": [
  {
   "cell_type": "code",
   "execution_count": 14,
   "metadata": {},
   "outputs": [],
   "source": [
    "from azure.cognitiveservices.vision.computervision import ComputerVisionClient\n",
    "from azure.cognitiveservices.vision.computervision.models import OperationStatusCodes\n",
    "from azure.cognitiveservices.vision.computervision.models import VisualFeatureTypes\n",
    "from msrest.authentication import CognitiveServicesCredentials\n",
    "from array import array\n",
    "import os\n",
    "from PIL import Image\n",
    "import sys\n",
    "import time\n"
   ]
  },
  {
   "cell_type": "code",
   "execution_count": 15,
   "metadata": {},
   "outputs": [
    {
     "data": {
      "text/plain": [
       "'\\nEND - Authenticate\\n'"
      ]
     },
     "execution_count": 15,
     "metadata": {},
     "output_type": "execute_result"
    }
   ],
   "source": [
    "'''\n",
    "Authenticate\n",
    "Authenticates your credentials and creates a client.\n",
    "'''\n",
    "endpoint = \"https://lab3-albertregus.cognitiveservices.azure.com/\"\n",
    "vision_key = \"570a3afbac67498ab7a45c74ec317fa9\"\n",
    "computervision_client = ComputerVisionClient(endpoint, CognitiveServicesCredentials(vision_key))\n",
    "'''\n",
    "END - Authenticate\n",
    "'''"
   ]
  },
  {
   "cell_type": "markdown",
   "metadata": {},
   "source": [
    "# Problema 1"
   ]
  },
  {
   "cell_type": "markdown",
   "metadata": {},
   "source": [
    "## 1. a) calitatea procesului de recunoastere a textului, atat la nivel de caracter, cat si la nivel de cuvant prin folosirea unei metrici de distanta"
   ]
  },
  {
   "cell_type": "code",
   "execution_count": 18,
   "metadata": {},
   "outputs": [
    {
     "name": "stdout",
     "output_type": "stream",
     "text": [
      "['Firefox']\n"
     ]
    }
   ],
   "source": [
    "# img = open(\"test1.png\", \"rb\")\n",
    "# img = open(\"images/test2.jpeg\", \"rb\")\n",
    "img = open(\"images/firefox.png\", \"rb\")\n",
    "read_response = computervision_client.read_in_stream(\n",
    "    image=img,\n",
    "    mode=\"Printed\",\n",
    "    raw=True\n",
    ")\n",
    "\n",
    "operation_id = read_response.headers['Operation-Location'].split('/')[-1]\n",
    "while True:\n",
    "    read_result = computervision_client.get_read_result(operation_id)\n",
    "    if read_result.status not in ['notStarted', 'running']:\n",
    "        break\n",
    "    time.sleep(1)\n",
    "\n",
    "result = []\n",
    "if read_result.status == OperationStatusCodes.succeeded:\n",
    "    for text_result in read_result.analyze_result.read_results:\n",
    "        for line in text_result.lines:\n",
    "            # print(line.text)\n",
    "            result.append(line.text)\n",
    "\n",
    "print(result)"
   ]
  },
  {
   "cell_type": "code",
   "execution_count": 19,
   "metadata": {},
   "outputs": [
    {
     "name": "stdout",
     "output_type": "stream",
     "text": [
      "1\n"
     ]
    }
   ],
   "source": [
    "# groundTruth = [\"Google Cloud\", \"Platform\"]\n",
    "# groundTruth = [\"Succes in rezolvarea\", \"tEMELOR la\", \"LABORAtoaree de\", \"Inteligenta Artificiala!\"]\n",
    "groundTruth = [\"Firefox\"]\n",
    "\n",
    "noOfCorrectLines = sum(i == j for i, j in zip(result, groundTruth))\n",
    "print(noOfCorrectLines)"
   ]
  },
  {
   "cell_type": "code",
   "execution_count": 20,
   "metadata": {},
   "outputs": [],
   "source": [
    "#original_text = \"Success in rezolvarea tEMELOR la LABORA toarele de Inteligenta Artificiala!\";\n",
    "\n",
    "original_text = \"Firefox\""
   ]
  },
  {
   "cell_type": "markdown",
   "metadata": {},
   "source": [
    "- calitatea procesului de recunoastere a textului folosind distanta Levenshtein"
   ]
  },
  {
   "cell_type": "code",
   "execution_count": 21,
   "metadata": {},
   "outputs": [
    {
     "name": "stdout",
     "output_type": "stream",
     "text": [
      "Firefox\n",
      "Distanta Levenshtein:  0\n"
     ]
    }
   ],
   "source": [
    "import editdistance\n",
    "\n",
    "def ocr_quality(original_text, ocr_output):\n",
    "    distance = editdistance.eval(original_text, ocr_output)\n",
    "    return distance\n",
    "\n",
    "ocr_text = ' '.join(result)\n",
    "print(ocr_text)\n",
    "\n",
    "distance = ocr_quality(original_text, ocr_text)\n",
    "print(\"Distanta Levenshtein: \", distance)"
   ]
  },
  {
   "cell_type": "markdown",
   "metadata": {},
   "source": [
    "- calitatea procesului de recunoastere a textului folosing distanta Hamming"
   ]
  },
  {
   "cell_type": "code",
   "execution_count": 22,
   "metadata": {},
   "outputs": [
    {
     "name": "stdout",
     "output_type": "stream",
     "text": [
      "Distanta Hamming:  0\n"
     ]
    }
   ],
   "source": [
    "def hamming_distance(s1, s2):\n",
    "\n",
    "    # if len(s1) != len(s2):\n",
    "    #     raise ValueError(\"Strings must be of equal length\")\n",
    "    \n",
    "    return sum(ch1 != ch2 for ch1, ch2 in zip(s1, s2))\n",
    "\n",
    "ocr_text = ' '.join(result)\n",
    "\n",
    "distance = hamming_distance(original_text, ocr_text)\n",
    "print(\"Distanta Hamming: \", distance)"
   ]
  },
  {
   "cell_type": "markdown",
   "metadata": {},
   "source": [
    "- calitatea procesului de recunoastere a textului folosing distanta Jaro-Winkler <br>\n",
    "0 - stringurile sunt total diferite <br>\n",
    "1 - stringurile sunt la fel"
   ]
  },
  {
   "cell_type": "code",
   "execution_count": 23,
   "metadata": {},
   "outputs": [
    {
     "name": "stdout",
     "output_type": "stream",
     "text": [
      "Distanta Jaro-Winkler:  1.0\n"
     ]
    }
   ],
   "source": [
    "import jellyfish\n",
    "\n",
    "ocr_text = ' '.join(result)\n",
    "\n",
    "jaro_winkler_distance = jellyfish.jaro_winkler_similarity(original_text, ocr_text)\n",
    "\n",
    "print(\"Distanta Jaro-Winkler: \", jaro_winkler_distance)"
   ]
  },
  {
   "cell_type": "markdown",
   "metadata": {},
   "source": [
    "## 2) calitatea localizarii corecte a textului in imagine"
   ]
  },
  {
   "cell_type": "code",
   "execution_count": 1,
   "metadata": {},
   "outputs": [],
   "source": [
    "import pytesseract\n",
    "from pytesseract import Output\n",
    "import cv2"
   ]
  },
  {
   "cell_type": "code",
   "execution_count": 7,
   "metadata": {},
   "outputs": [
    {
     "name": "stdout",
     "output_type": "stream",
     "text": [
      "['', '', '', '', '*', 'Firefox'] [-1, -1, -1, -1, 43, 96]\n"
     ]
    }
   ],
   "source": [
    "image = cv2.imread(\"images/firefox.png\")\n",
    "\n",
    "if image is not None:\n",
    "    cv2.imshow(\"Image\", cv2.resize(image, (800, 600)))\n",
    "    cv2.waitKey(0)  \n",
    "    cv2.destroyAllWindows() \n",
    "else:\n",
    "    print(\"Image not found or cannot be read.\")\n",
    "\n",
    "rgb = cv2.cvtColor(image, cv2.COLOR_BGR2RGB)\n",
    "results = pytesseract.image_to_data(rgb, output_type=Output.DICT)\n",
    "\n",
    "print(results[\"text\"], results[\"conf\"])"
   ]
  },
  {
   "cell_type": "code",
   "execution_count": 8,
   "metadata": {},
   "outputs": [],
   "source": [
    "for i in range(0, len(results[\"text\"])):\n",
    "\t\n",
    "\tx = results[\"left\"][i]\n",
    "\ty = results[\"top\"][i]\n",
    "\tw = results[\"width\"][i]\n",
    "\th = results[\"height\"][i]\n",
    "\n",
    "\ttext = results[\"text\"][i]   # extrage textul \n",
    "\tconf = int(results[\"conf\"][i])  # nivelul de recunoastere"
   ]
  },
  {
   "cell_type": "code",
   "execution_count": 12,
   "metadata": {},
   "outputs": [
    {
     "name": "stdout",
     "output_type": "stream",
     "text": [
      "Confidence: 96\n",
      "Text: Firefox\n",
      "\n"
     ]
    }
   ],
   "source": [
    "print(\"Confidence: {}\".format(conf))\n",
    "print(\"Text: {}\".format(text))\n",
    "print(\"\")\n",
    "\n",
    "text = \"\".join([c if ord(c) < 128 else \"\" for c in text]).strip()\n",
    "cv2.rectangle(image, (x, y), (x + w, y + h), (0, 255, 0), 2)\n",
    "cv2.putText(image, text, (x, y - 10), cv2.FONT_HERSHEY_SIMPLEX, 1.2, (0, 0, 255), 3)\n",
    "\n",
    "cv2.imshow(\"Image\", image)\n",
    "cv2.waitKey(0)\n",
    "cv2.destroyAllWindows()"
   ]
  }
 ],
 "metadata": {
  "kernelspec": {
   "display_name": "Python 3",
   "language": "python",
   "name": "python3"
  },
  "language_info": {
   "codemirror_mode": {
    "name": "ipython",
    "version": 3
   },
   "file_extension": ".py",
   "mimetype": "text/x-python",
   "name": "python",
   "nbconvert_exporter": "python",
   "pygments_lexer": "ipython3",
   "version": "3.10.12"
  }
 },
 "nbformat": 4,
 "nbformat_minor": 2
}
