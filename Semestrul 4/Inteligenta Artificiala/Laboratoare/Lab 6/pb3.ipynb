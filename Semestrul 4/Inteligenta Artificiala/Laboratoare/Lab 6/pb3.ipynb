{
 "cells": [
  {
   "cell_type": "markdown",
   "metadata": {},
   "source": [
    "### Problema 3\n",
    "\n",
    "Se consideră problema clasificării florilor de iris în diferite specii precum: setosa, versicolor și virginica. Pentru fiecare floare se cunosc caracteristici precum: lungimea și lățimea sepalei, lungimea și lățimea petalei. Folosindu-se aceste informații, să se decidă din ce specie aparține o anumită floare."
   ]
  },
  {
   "cell_type": "code",
   "execution_count": 61,
   "metadata": {},
   "outputs": [],
   "source": [
    "from ucimlrepo import fetch_ucirepo\n",
    "import csv\n",
    "import matplotlib.pyplot as plt \n",
    "import numpy as np \n",
    "import pandas as pd\n",
    "import sklearn\n",
    "from sklearn.linear_model import LogisticRegression\n",
    "from Clasificator import Clasificator\n",
    "from LogisticRegression import MyLogisticRegressor\n",
    "from sklearn import linear_model\n"
   ]
  },
  {
   "cell_type": "code",
   "execution_count": 62,
   "metadata": {},
   "outputs": [
    {
     "data": {
      "text/html": [
       "<div>\n",
       "<style scoped>\n",
       "    .dataframe tbody tr th:only-of-type {\n",
       "        vertical-align: middle;\n",
       "    }\n",
       "\n",
       "    .dataframe tbody tr th {\n",
       "        vertical-align: top;\n",
       "    }\n",
       "\n",
       "    .dataframe thead th {\n",
       "        text-align: right;\n",
       "    }\n",
       "</style>\n",
       "<table border=\"1\" class=\"dataframe\">\n",
       "  <thead>\n",
       "    <tr style=\"text-align: right;\">\n",
       "      <th></th>\n",
       "      <th>sepal_length</th>\n",
       "      <th>sepal_width</th>\n",
       "      <th>petal_length</th>\n",
       "      <th>petal_width</th>\n",
       "      <th>class</th>\n",
       "    </tr>\n",
       "  </thead>\n",
       "  <tbody>\n",
       "    <tr>\n",
       "      <th>0</th>\n",
       "      <td>5.1</td>\n",
       "      <td>3.5</td>\n",
       "      <td>1.4</td>\n",
       "      <td>0.2</td>\n",
       "      <td>Iris-setosa</td>\n",
       "    </tr>\n",
       "    <tr>\n",
       "      <th>1</th>\n",
       "      <td>4.9</td>\n",
       "      <td>3.0</td>\n",
       "      <td>1.4</td>\n",
       "      <td>0.2</td>\n",
       "      <td>Iris-setosa</td>\n",
       "    </tr>\n",
       "    <tr>\n",
       "      <th>2</th>\n",
       "      <td>4.7</td>\n",
       "      <td>3.2</td>\n",
       "      <td>1.3</td>\n",
       "      <td>0.2</td>\n",
       "      <td>Iris-setosa</td>\n",
       "    </tr>\n",
       "    <tr>\n",
       "      <th>3</th>\n",
       "      <td>4.6</td>\n",
       "      <td>3.1</td>\n",
       "      <td>1.5</td>\n",
       "      <td>0.2</td>\n",
       "      <td>Iris-setosa</td>\n",
       "    </tr>\n",
       "    <tr>\n",
       "      <th>4</th>\n",
       "      <td>5.0</td>\n",
       "      <td>3.6</td>\n",
       "      <td>1.4</td>\n",
       "      <td>0.2</td>\n",
       "      <td>Iris-setosa</td>\n",
       "    </tr>\n",
       "    <tr>\n",
       "      <th>...</th>\n",
       "      <td>...</td>\n",
       "      <td>...</td>\n",
       "      <td>...</td>\n",
       "      <td>...</td>\n",
       "      <td>...</td>\n",
       "    </tr>\n",
       "    <tr>\n",
       "      <th>145</th>\n",
       "      <td>6.7</td>\n",
       "      <td>3.0</td>\n",
       "      <td>5.2</td>\n",
       "      <td>2.3</td>\n",
       "      <td>Iris-virginica</td>\n",
       "    </tr>\n",
       "    <tr>\n",
       "      <th>146</th>\n",
       "      <td>6.3</td>\n",
       "      <td>2.5</td>\n",
       "      <td>5.0</td>\n",
       "      <td>1.9</td>\n",
       "      <td>Iris-virginica</td>\n",
       "    </tr>\n",
       "    <tr>\n",
       "      <th>147</th>\n",
       "      <td>6.5</td>\n",
       "      <td>3.0</td>\n",
       "      <td>5.2</td>\n",
       "      <td>2.0</td>\n",
       "      <td>Iris-virginica</td>\n",
       "    </tr>\n",
       "    <tr>\n",
       "      <th>148</th>\n",
       "      <td>6.2</td>\n",
       "      <td>3.4</td>\n",
       "      <td>5.4</td>\n",
       "      <td>2.3</td>\n",
       "      <td>Iris-virginica</td>\n",
       "    </tr>\n",
       "    <tr>\n",
       "      <th>149</th>\n",
       "      <td>5.9</td>\n",
       "      <td>3.0</td>\n",
       "      <td>5.1</td>\n",
       "      <td>1.8</td>\n",
       "      <td>Iris-virginica</td>\n",
       "    </tr>\n",
       "  </tbody>\n",
       "</table>\n",
       "<p>150 rows × 5 columns</p>\n",
       "</div>"
      ],
      "text/plain": [
       "     sepal_length  sepal_width  petal_length  petal_width           class\n",
       "0             5.1          3.5           1.4          0.2     Iris-setosa\n",
       "1             4.9          3.0           1.4          0.2     Iris-setosa\n",
       "2             4.7          3.2           1.3          0.2     Iris-setosa\n",
       "3             4.6          3.1           1.5          0.2     Iris-setosa\n",
       "4             5.0          3.6           1.4          0.2     Iris-setosa\n",
       "..            ...          ...           ...          ...             ...\n",
       "145           6.7          3.0           5.2          2.3  Iris-virginica\n",
       "146           6.3          2.5           5.0          1.9  Iris-virginica\n",
       "147           6.5          3.0           5.2          2.0  Iris-virginica\n",
       "148           6.2          3.4           5.4          2.3  Iris-virginica\n",
       "149           5.9          3.0           5.1          1.8  Iris-virginica\n",
       "\n",
       "[150 rows x 5 columns]"
      ]
     },
     "execution_count": 62,
     "metadata": {},
     "output_type": "execute_result"
    }
   ],
   "source": [
    "iris = fetch_ucirepo(id=53) \n",
    "  \n",
    "X = iris.data.features \n",
    "y = iris.data.targets \n",
    "\n",
    "data = {\n",
    "    'sepal_length': X['sepal length'],\n",
    "    'sepal_width': X['sepal width'],\n",
    "    'petal_length': X['petal length'],\n",
    "    'petal_width': X['petal width'],\n",
    "    'class': y['class']\n",
    "}\n",
    "\n",
    "df = pd.DataFrame(data)\n",
    "\n",
    "df"
   ]
  },
  {
   "cell_type": "code",
   "execution_count": 63,
   "metadata": {},
   "outputs": [],
   "source": [
    "trainSample = np.random.choice(range(df.shape[0]), int(0.8 * df.shape[0]), replace = False)\n",
    "testSample = [i for i in range(df.shape[0])  if not i in trainSample]\n",
    "\n",
    "trainInputs = [[df['sepal_length'].iloc[index], df[\"sepal_width\"].iloc[index], df['petal_length'].iloc[index], df[\"petal_width\"].iloc[index]] for index in trainSample]\n",
    "trainOutputs = [df[\"class\"].iloc[index] for index in trainSample]\n",
    "\n",
    "testInputs = [[df['sepal_length'].iloc[index], df[\"sepal_width\"].iloc[index], df['petal_length'].iloc[index], df[\"petal_width\"].iloc[index]] for index in testSample]\n",
    "testOutputs = [df[\"class\"].iloc[index] for index in testSample]"
   ]
  },
  {
   "cell_type": "markdown",
   "metadata": {},
   "source": [
    "(tool)"
   ]
  },
  {
   "cell_type": "code",
   "execution_count": 74,
   "metadata": {},
   "outputs": [
    {
     "name": "stdout",
     "output_type": "stream",
     "text": [
      "Iris-setosa\n",
      "Acc: 1.0, Precision: 1.0, Recall: 1.0\n",
      "Iris-virginica\n",
      "Acc: 0.8666666666666667, Precision: 0.7777777777777778, Recall: 1.0\n",
      "Iris-versicolor\n",
      "Acc: 0.8666666666666667, Precision: 1.0, Recall: 0.42857142857142855\n"
     ]
    }
   ],
   "source": [
    "regressor = linear_model.SGDClassifier()\n",
    "regressor.fit(trainInputs, trainOutputs)\n",
    "\n",
    "computedOutput = regressor.predict(testInputs)\n",
    "\n",
    "for label in set(df['class']):\n",
    "    TP, TN, FP, FN = Clasificator.metrici(computedOutput, testOutputs, label)\n",
    "    acc = Clasificator.accuracy(TP, TN, FP, FN)\n",
    "    precision = Clasificator.precision(TP, TN, FP, FN) \n",
    "    recall = Clasificator.recall(TP, TN, FP, FN) \n",
    "    print(f\"{label}\")\n",
    "    print(f\"Acc: {acc}, Precision: {precision}, Recall: {recall}\")\n",
    "\n"
   ]
  },
  {
   "cell_type": "markdown",
   "metadata": {},
   "source": [
    "(manual)"
   ]
  },
  {
   "cell_type": "code",
   "execution_count": 73,
   "metadata": {},
   "outputs": [
    {
     "name": "stdout",
     "output_type": "stream",
     "text": [
      "Iris-setosa\n",
      "Acc: 1.0, Precision: 1.0, Recall: 1.0\n",
      "Iris-virginica\n",
      "Acc: 0.7666666666666667, Precision: 0.6666666666666666, Recall: 1.0\n",
      "Iris-versicolor\n",
      "Acc: 0.7666666666666667, Precision: 0, Recall: 0.0\n"
     ]
    }
   ],
   "source": [
    "regressor = MyLogisticRegressor()\n",
    "regressor.train(trainInputs, trainOutputs)\n",
    "\n",
    "computedOutput = regressor.predict(testInputs)\n",
    "\n",
    "for label in set(df['class']):\n",
    "    TP, TN, FP, FN = Clasificator.metrici(computedOutput, testOutputs, label)\n",
    "    acc = Clasificator.accuracy(TP, TN, FP, FN)\n",
    "    precision = Clasificator.precision(TP, TN, FP, FN) \n",
    "    recall = Clasificator.recall(TP, TN, FP, FN) \n",
    "    print(f\"{label}\")\n",
    "    print(f\"Acc: {acc}, Precision: {precision}, Recall: {recall}\")"
   ]
  },
  {
   "cell_type": "markdown",
   "metadata": {},
   "source": [
    " Antrenati un clasificator pentru a stabili:\n",
    "\n",
    "   - specia unei flori de iris care are sepala lunga de 5.35 cm si lata de 3.85 cm, iar petala lunga de 1.25 cm si lata de 0.4cm"
   ]
  },
  {
   "cell_type": "code",
   "execution_count": 66,
   "metadata": {},
   "outputs": [
    {
     "name": "stdout",
     "output_type": "stream",
     "text": [
      "Tool prediction: ['Iris-setosa']\n",
      "Manual prediction: ['Iris-setosa']\n"
     ]
    }
   ],
   "source": [
    "sepala_length = 5.35\n",
    "sepala_width = 3.85\n",
    "petal_lenght = 1.25\n",
    "petal_width = 0.4\n",
    "\n",
    "regressor_tool = linear_model.SGDClassifier()\n",
    "regressor_tool.fit(trainInputs, trainOutputs)\n",
    "tool_output = regressor_tool.predict([[sepala_length, sepala_width, petal_lenght, petal_width]])\n",
    "print(f\"Tool prediction: {tool_output}\")\n",
    "\n",
    "regressor_manual = MyLogisticRegressor()\n",
    "regressor_manual.train(trainInputs, trainOutputs)\n",
    "manual_output = regressor_manual.predict([[sepala_length, sepala_width, petal_lenght, petal_width]])\n",
    "print(f\"Manual prediction: {manual_output}\")\n"
   ]
  }
 ],
 "metadata": {
  "kernelspec": {
   "display_name": "Python 3",
   "language": "python",
   "name": "python3"
  },
  "language_info": {
   "codemirror_mode": {
    "name": "ipython",
    "version": 3
   },
   "file_extension": ".py",
   "mimetype": "text/x-python",
   "name": "python",
   "nbconvert_exporter": "python",
   "pygments_lexer": "ipython3",
   "version": "3.10.12"
  }
 },
 "nbformat": 4,
 "nbformat_minor": 2
}
